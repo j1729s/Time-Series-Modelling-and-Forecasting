{
 "cells": [
  {
   "cell_type": "code",
   "execution_count": 1,
   "id": "interior-garbage",
   "metadata": {},
   "outputs": [],
   "source": [
    "import numpy as np\n",
    "import pandas as pd\n",
    "import matplotlib.pyplot as plt\n",
    "plt.style.use('seaborn')\n",
    "%matplotlib inline"
   ]
  },
  {
   "cell_type": "markdown",
   "id": "smooth-biotechnology",
   "metadata": {},
   "source": [
    "# Quantile Analysis\n",
    "Another form of non-linear analysis is the analysis of the simulated **performance of stocks grouped** based on the information signal.\n",
    "\n",
    "Alpha models based on factors (value, momentum, profitability, low-risk) normally have a **relative bet structure**: based on the signal we divide stocks into groups (good vs bad, or good vs meh vs bad, or very good vs good vs meh vs...). We are not forecasting that it stock ABC will go up, but that will perform better than stock XYZ. \n",
    "\n",
    "A natural way to test the quality of an information signal is simply to:\n",
    "1. **Rank** stocks based on the signal.\n",
    "1. **Divide** them into groups.\n",
    "1. **Measure** the future return of said groups."
   ]
  },
  {
   "cell_type": "markdown",
   "id": "confident-architect",
   "metadata": {},
   "source": [
    "___\n",
    "## 1. Data\n",
    "Let's start by loading our data on prices and an information signal, and create the future returns  that we can match with the information signal. We will follow the usual procedure\n",
    "\n",
    "$$ r_{t,t+1} = \\log \\left(\\frac{P_{t+1}}{P_{t}}\\right)$$"
   ]
  },
  {
   "cell_type": "code",
   "execution_count": 2,
   "id": "genuine-documentation",
   "metadata": {},
   "outputs": [
    {
     "data": {
      "text/html": [
       "<div>\n",
       "<style scoped>\n",
       "    .dataframe tbody tr th:only-of-type {\n",
       "        vertical-align: middle;\n",
       "    }\n",
       "\n",
       "    .dataframe tbody tr th {\n",
       "        vertical-align: top;\n",
       "    }\n",
       "\n",
       "    .dataframe thead th {\n",
       "        text-align: right;\n",
       "    }\n",
       "</style>\n",
       "<table border=\"1\" class=\"dataframe\">\n",
       "  <thead>\n",
       "    <tr style=\"text-align: right;\">\n",
       "      <th></th>\n",
       "      <th></th>\n",
       "      <th>epq</th>\n",
       "      <th>fut_ret</th>\n",
       "    </tr>\n",
       "    <tr>\n",
       "      <th>id</th>\n",
       "      <th>date</th>\n",
       "      <th></th>\n",
       "      <th></th>\n",
       "    </tr>\n",
       "  </thead>\n",
       "  <tbody>\n",
       "    <tr>\n",
       "      <th rowspan=\"5\" valign=\"top\">10001</th>\n",
       "      <th>1986-11-28</th>\n",
       "      <td>-0.341051</td>\n",
       "      <td>0.014889</td>\n",
       "    </tr>\n",
       "    <tr>\n",
       "      <th>1986-12-31</th>\n",
       "      <td>-0.243300</td>\n",
       "      <td>-0.036368</td>\n",
       "    </tr>\n",
       "    <tr>\n",
       "      <th>1987-01-30</th>\n",
       "      <td>-0.323111</td>\n",
       "      <td>-0.076961</td>\n",
       "    </tr>\n",
       "    <tr>\n",
       "      <th>1987-02-27</th>\n",
       "      <td>0.418786</td>\n",
       "      <td>0.036139</td>\n",
       "    </tr>\n",
       "    <tr>\n",
       "      <th>1987-03-31</th>\n",
       "      <td>0.410650</td>\n",
       "      <td>-0.040005</td>\n",
       "    </tr>\n",
       "  </tbody>\n",
       "</table>\n",
       "</div>"
      ],
      "text/plain": [
       "                       epq   fut_ret\n",
       "id    date                          \n",
       "10001 1986-11-28 -0.341051  0.014889\n",
       "      1986-12-31 -0.243300 -0.036368\n",
       "      1987-01-30 -0.323111 -0.076961\n",
       "      1987-02-27  0.418786  0.036139\n",
       "      1987-03-31  0.410650 -0.040005"
      ]
     },
     "execution_count": 2,
     "metadata": {},
     "output_type": "execute_result"
    }
   ],
   "source": [
    "# we load the prices and calculate the future returns\n",
    "prices = pd.read_csv('Prices.zip', parse_dates=['date']).set_index(['id', 'date'])\n",
    "future_returns = np.log(prices['price'].groupby('id').shift(-1) / prices['price']).rename('fut_ret')\n",
    "\n",
    "# we load the information signal. To make our code more general we are going to rename the information signal\n",
    "signal = pd.read_csv('EPQ.zip', parse_dates=['date']).set_index(['id', 'date'])\n",
    "\n",
    "# we merge signal and future returns in the same DataFrame\n",
    "data = signal.join(future_returns).dropna()\n",
    "data.head()"
   ]
  },
  {
   "cell_type": "markdown",
   "id": "broke-theme",
   "metadata": {},
   "source": [
    "___\n",
    "## 2. Forming the Groups\n",
    "We can now start our quantile analysis by grouping the stocks based on the information signal. To achieve this we can use the pandas function [**`pandas.qcut()`**](https://pandas.pydata.org/pandas-docs/stable/reference/api/pandas.qcut.html)."
   ]
  },
  {
   "cell_type": "code",
   "execution_count": 3,
   "id": "a62072b9",
   "metadata": {},
   "outputs": [
    {
     "data": {
      "text/html": [
       "<div>\n",
       "<style scoped>\n",
       "    .dataframe tbody tr th:only-of-type {\n",
       "        vertical-align: middle;\n",
       "    }\n",
       "\n",
       "    .dataframe tbody tr th {\n",
       "        vertical-align: top;\n",
       "    }\n",
       "\n",
       "    .dataframe thead th {\n",
       "        text-align: right;\n",
       "    }\n",
       "</style>\n",
       "<table border=\"1\" class=\"dataframe\">\n",
       "  <thead>\n",
       "    <tr style=\"text-align: right;\">\n",
       "      <th></th>\n",
       "      <th></th>\n",
       "      <th>epq</th>\n",
       "      <th>fut_ret</th>\n",
       "      <th>group</th>\n",
       "    </tr>\n",
       "    <tr>\n",
       "      <th>id</th>\n",
       "      <th>date</th>\n",
       "      <th></th>\n",
       "      <th></th>\n",
       "      <th></th>\n",
       "    </tr>\n",
       "  </thead>\n",
       "  <tbody>\n",
       "    <tr>\n",
       "      <th rowspan=\"5\" valign=\"top\">10001</th>\n",
       "      <th>1986-11-28</th>\n",
       "      <td>-0.341051</td>\n",
       "      <td>0.014889</td>\n",
       "      <td>0</td>\n",
       "    </tr>\n",
       "    <tr>\n",
       "      <th>1986-12-31</th>\n",
       "      <td>-0.243300</td>\n",
       "      <td>-0.036368</td>\n",
       "      <td>0</td>\n",
       "    </tr>\n",
       "    <tr>\n",
       "      <th>1987-01-30</th>\n",
       "      <td>-0.323111</td>\n",
       "      <td>-0.076961</td>\n",
       "      <td>0</td>\n",
       "    </tr>\n",
       "    <tr>\n",
       "      <th>1987-02-27</th>\n",
       "      <td>0.418786</td>\n",
       "      <td>0.036139</td>\n",
       "      <td>3</td>\n",
       "    </tr>\n",
       "    <tr>\n",
       "      <th>1987-03-31</th>\n",
       "      <td>0.410650</td>\n",
       "      <td>-0.040005</td>\n",
       "      <td>3</td>\n",
       "    </tr>\n",
       "  </tbody>\n",
       "</table>\n",
       "</div>"
      ],
      "text/plain": [
       "                       epq   fut_ret  group\n",
       "id    date                                 \n",
       "10001 1986-11-28 -0.341051  0.014889      0\n",
       "      1986-12-31 -0.243300 -0.036368      0\n",
       "      1987-01-30 -0.323111 -0.076961      0\n",
       "      1987-02-27  0.418786  0.036139      3\n",
       "      1987-03-31  0.410650 -0.040005      3"
      ]
     },
     "execution_count": 3,
     "metadata": {},
     "output_type": "execute_result"
    }
   ],
   "source": [
    "# We start by choosing the number of bins\n",
    "N = 4\n",
    "\n",
    "# We apply the pandas.qcut() function using a lambda function\n",
    "data['group'] = data.groupby('date')['epq'].apply(lambda x: pd.qcut(x,N, labels=False))\n",
    "\n",
    "data.head()"
   ]
  },
  {
   "cell_type": "markdown",
   "id": "rural-directive",
   "metadata": {},
   "source": [
    "___\n",
    "### 2.1 An intermission on Lambda Functions\n",
    "This is the first time we encounter a [**lambda function**](https://realpython.com/python-lambda/). This is a construct common to a number of programming languages. It is technically known as an **anonymous function**. The idea is that you build and run a function in the same line. For example if we want to create a function to add 1 to a number we can write:"
   ]
  },
  {
   "cell_type": "code",
   "execution_count": 4,
   "id": "known-dealer",
   "metadata": {},
   "outputs": [
    {
     "data": {
      "text/plain": [
       "3"
      ]
     },
     "execution_count": 4,
     "metadata": {},
     "output_type": "execute_result"
    }
   ],
   "source": [
    "def add_one(x):\n",
    "    return x + 1\n",
    "\n",
    "#let's test\n",
    "add_one(2)"
   ]
  },
  {
   "cell_type": "markdown",
   "id": "italian-payday",
   "metadata": {},
   "source": [
    "The following lambda function performs the same task:"
   ]
  },
  {
   "cell_type": "code",
   "execution_count": 5,
   "id": "alone-safety",
   "metadata": {},
   "outputs": [
    {
     "data": {
      "text/plain": [
       "3"
      ]
     },
     "execution_count": 5,
     "metadata": {},
     "output_type": "execute_result"
    }
   ],
   "source": [
    "lambda x: x + 1\n",
    "\n",
    "#we can apply the function surrounding the function and its argument in parenthesis\n",
    "(lambda x: x + 1)(2)"
   ]
  },
  {
   "cell_type": "markdown",
   "id": "detected-suspect",
   "metadata": {},
   "source": [
    "A way to understand lambda functions is to read them aloud in this way: the function\n",
    "```python\n",
    "lambda x: x + 1\n",
    "```\n",
    "becomes \"When I give you `x` you give me back `x+1`\". \n",
    "___\n",
    "In our code above the function looks like \n",
    "```python\n",
    "lambda x: pd.qcut(x,N, labels=False)\n",
    "```\n",
    "and we can read \"When I give you `x` give me the group (quantile) to which it belongs after cutting the sample in `N` groups. But what is `x`? Well we use the [**`DataFrame.apply()`**](https://pandas.pydata.org/pandas-docs/stable/reference/api/pandas.DataFrame.apply.html) method to \"apply\" this function to our signal after grouping the sample by date. \n",
    "\n",
    "Has the function worked? Let's count how many observations we have in any bin. We can easily do this with the method [**`Series.value_counts()`**](https://pandas.pydata.org/docs/reference/api/pandas.Series.value_counts.html) that simply counts the values of a variable. If we look at the values of the new coulmn we see..."
   ]
  },
  {
   "cell_type": "code",
   "execution_count": 6,
   "id": "thirty-holocaust",
   "metadata": {},
   "outputs": [
    {
     "data": {
      "text/plain": [
       "0    525805\n",
       "1    521245\n",
       "2    523112\n",
       "3    523002\n",
       "Name: group, dtype: int64"
      ]
     },
     "execution_count": 6,
     "metadata": {},
     "output_type": "execute_result"
    }
   ],
   "source": [
    "data['group'].value_counts().sort_index() #The sort index is to have the value ranked based on the bin number, the index."
   ]
  },
  {
   "cell_type": "markdown",
   "id": "aerial-polymer",
   "metadata": {},
   "source": [
    "...that, in fact, the sample is more or less **equally split between the different groups**. If you are ocd like me and hate to see the group numbering starting from zero, you can apply **add 1 at the end**."
   ]
  },
  {
   "cell_type": "code",
   "execution_count": 7,
   "id": "dressed-storage",
   "metadata": {},
   "outputs": [
    {
     "data": {
      "text/plain": [
       "1    525805\n",
       "2    521245\n",
       "3    523112\n",
       "4    523002\n",
       "Name: group, dtype: int64"
      ]
     },
     "execution_count": 7,
     "metadata": {},
     "output_type": "execute_result"
    }
   ],
   "source": [
    "data['group'] = data.groupby('date')['epq'].apply(lambda x: pd.qcut(x,N, labels=False))+1\n",
    "data['group'].value_counts().sort_index()"
   ]
  },
  {
   "cell_type": "markdown",
   "id": "equipped-evanescence",
   "metadata": {},
   "source": [
    "We can now calculate the average signal, and the **average future return** for the stocks in each group:"
   ]
  },
  {
   "cell_type": "code",
   "execution_count": 8,
   "id": "secure-conjunction",
   "metadata": {},
   "outputs": [
    {
     "data": {
      "text/html": [
       "<div>\n",
       "<style scoped>\n",
       "    .dataframe tbody tr th:only-of-type {\n",
       "        vertical-align: middle;\n",
       "    }\n",
       "\n",
       "    .dataframe tbody tr th {\n",
       "        vertical-align: top;\n",
       "    }\n",
       "\n",
       "    .dataframe thead th {\n",
       "        text-align: right;\n",
       "    }\n",
       "</style>\n",
       "<table border=\"1\" class=\"dataframe\">\n",
       "  <thead>\n",
       "    <tr style=\"text-align: right;\">\n",
       "      <th></th>\n",
       "      <th></th>\n",
       "      <th>epq</th>\n",
       "      <th>fut_ret</th>\n",
       "    </tr>\n",
       "    <tr>\n",
       "      <th>date</th>\n",
       "      <th>group</th>\n",
       "      <th></th>\n",
       "      <th></th>\n",
       "    </tr>\n",
       "  </thead>\n",
       "  <tbody>\n",
       "    <tr>\n",
       "      <th rowspan=\"4\" valign=\"top\">1980-01-31</th>\n",
       "      <th>1</th>\n",
       "      <td>-1.030654</td>\n",
       "      <td>-0.022436</td>\n",
       "    </tr>\n",
       "    <tr>\n",
       "      <th>2</th>\n",
       "      <td>-0.110000</td>\n",
       "      <td>-0.029484</td>\n",
       "    </tr>\n",
       "    <tr>\n",
       "      <th>3</th>\n",
       "      <td>0.231382</td>\n",
       "      <td>-0.042486</td>\n",
       "    </tr>\n",
       "    <tr>\n",
       "      <th>4</th>\n",
       "      <td>0.944035</td>\n",
       "      <td>-0.035022</td>\n",
       "    </tr>\n",
       "    <tr>\n",
       "      <th rowspan=\"4\" valign=\"top\">1980-02-29</th>\n",
       "      <th>1</th>\n",
       "      <td>-1.057966</td>\n",
       "      <td>-0.223656</td>\n",
       "    </tr>\n",
       "    <tr>\n",
       "      <th>2</th>\n",
       "      <td>-0.113385</td>\n",
       "      <td>-0.163320</td>\n",
       "    </tr>\n",
       "    <tr>\n",
       "      <th>3</th>\n",
       "      <td>0.225808</td>\n",
       "      <td>-0.154655</td>\n",
       "    </tr>\n",
       "    <tr>\n",
       "      <th>4</th>\n",
       "      <td>0.938518</td>\n",
       "      <td>-0.152308</td>\n",
       "    </tr>\n",
       "    <tr>\n",
       "      <th rowspan=\"2\" valign=\"top\">1980-03-31</th>\n",
       "      <th>1</th>\n",
       "      <td>-0.956835</td>\n",
       "      <td>0.036317</td>\n",
       "    </tr>\n",
       "    <tr>\n",
       "      <th>2</th>\n",
       "      <td>-0.090307</td>\n",
       "      <td>0.055467</td>\n",
       "    </tr>\n",
       "  </tbody>\n",
       "</table>\n",
       "</div>"
      ],
      "text/plain": [
       "                       epq   fut_ret\n",
       "date       group                    \n",
       "1980-01-31 1     -1.030654 -0.022436\n",
       "           2     -0.110000 -0.029484\n",
       "           3      0.231382 -0.042486\n",
       "           4      0.944035 -0.035022\n",
       "1980-02-29 1     -1.057966 -0.223656\n",
       "           2     -0.113385 -0.163320\n",
       "           3      0.225808 -0.154655\n",
       "           4      0.938518 -0.152308\n",
       "1980-03-31 1     -0.956835  0.036317\n",
       "           2     -0.090307  0.055467"
      ]
     },
     "execution_count": 8,
     "metadata": {},
     "output_type": "execute_result"
    }
   ],
   "source": [
    "portfolios = data.groupby(['date','group']).mean()\n",
    "portfolios.head(10)"
   ]
  },
  {
   "cell_type": "markdown",
   "id": "opposite-committee",
   "metadata": {},
   "source": [
    "Since we have grouped by 2 variables (`date` and `group`) the output is a DateFrame with a double index: each individual observation is identified by a combination of a specific date and a specific group. This is called a [MultiIndex](https://pandas.pydata.org/pandas-docs/stable/user_guide/advanced.html) and it's a very powerful tool in Pandas. We can [**`DataFrame.unstack()`**](https://pandas.pydata.org/pandas-docs/stable/reference/api/pandas.DataFrame.unstack.html) the groups to have the return of each group in a different column:"
   ]
  },
  {
   "cell_type": "code",
   "execution_count": 9,
   "id": "liked-omaha",
   "metadata": {},
   "outputs": [
    {
     "data": {
      "text/html": [
       "<div>\n",
       "<style scoped>\n",
       "    .dataframe tbody tr th:only-of-type {\n",
       "        vertical-align: middle;\n",
       "    }\n",
       "\n",
       "    .dataframe tbody tr th {\n",
       "        vertical-align: top;\n",
       "    }\n",
       "\n",
       "    .dataframe thead th {\n",
       "        text-align: right;\n",
       "    }\n",
       "</style>\n",
       "<table border=\"1\" class=\"dataframe\">\n",
       "  <thead>\n",
       "    <tr style=\"text-align: right;\">\n",
       "      <th>group</th>\n",
       "      <th>1</th>\n",
       "      <th>2</th>\n",
       "      <th>3</th>\n",
       "      <th>4</th>\n",
       "    </tr>\n",
       "    <tr>\n",
       "      <th>date</th>\n",
       "      <th></th>\n",
       "      <th></th>\n",
       "      <th></th>\n",
       "      <th></th>\n",
       "    </tr>\n",
       "  </thead>\n",
       "  <tbody>\n",
       "    <tr>\n",
       "      <th>1980-01-31</th>\n",
       "      <td>-0.022436</td>\n",
       "      <td>-0.029484</td>\n",
       "      <td>-0.042486</td>\n",
       "      <td>-0.035022</td>\n",
       "    </tr>\n",
       "    <tr>\n",
       "      <th>1980-02-29</th>\n",
       "      <td>-0.223656</td>\n",
       "      <td>-0.163320</td>\n",
       "      <td>-0.154655</td>\n",
       "      <td>-0.152308</td>\n",
       "    </tr>\n",
       "    <tr>\n",
       "      <th>1980-03-31</th>\n",
       "      <td>0.036317</td>\n",
       "      <td>0.055467</td>\n",
       "      <td>0.057437</td>\n",
       "      <td>0.055215</td>\n",
       "    </tr>\n",
       "    <tr>\n",
       "      <th>1980-04-30</th>\n",
       "      <td>0.061855</td>\n",
       "      <td>0.064607</td>\n",
       "      <td>0.076178</td>\n",
       "      <td>0.077865</td>\n",
       "    </tr>\n",
       "    <tr>\n",
       "      <th>1980-05-30</th>\n",
       "      <td>0.028694</td>\n",
       "      <td>0.031942</td>\n",
       "      <td>0.028689</td>\n",
       "      <td>0.047138</td>\n",
       "    </tr>\n",
       "  </tbody>\n",
       "</table>\n",
       "</div>"
      ],
      "text/plain": [
       "group              1         2         3         4\n",
       "date                                              \n",
       "1980-01-31 -0.022436 -0.029484 -0.042486 -0.035022\n",
       "1980-02-29 -0.223656 -0.163320 -0.154655 -0.152308\n",
       "1980-03-31  0.036317  0.055467  0.057437  0.055215\n",
       "1980-04-30  0.061855  0.064607  0.076178  0.077865\n",
       "1980-05-30  0.028694  0.031942  0.028689  0.047138"
      ]
     },
     "execution_count": 9,
     "metadata": {},
     "output_type": "execute_result"
    }
   ],
   "source": [
    "port_returns = portfolios['fut_ret'].unstack(level=1) #level 0 is the first index (date), level 1 is the second (group).\n",
    "port_returns.head()"
   ]
  },
  {
   "cell_type": "markdown",
   "id": "regulated-language",
   "metadata": {},
   "source": [
    "___\n",
    "## 3. Measuring the Performance\n",
    "Now we have easy to use time series for the monthly return of each portfolio. At this point we can start measuring their performance:"
   ]
  },
  {
   "cell_type": "code",
   "execution_count": 10,
   "id": "senior-accent",
   "metadata": {},
   "outputs": [
    {
     "data": {
      "text/plain": [
       "group\n",
       "1   -0.216346\n",
       "2   -0.028028\n",
       "3    0.075083\n",
       "4    0.124912\n",
       "dtype: float64"
      ]
     },
     "execution_count": 10,
     "metadata": {},
     "output_type": "execute_result"
    }
   ],
   "source": [
    "# annualized mean return\n",
    "port_returns.mean()*12"
   ]
  },
  {
   "cell_type": "code",
   "execution_count": 11,
   "id": "undefined-community",
   "metadata": {},
   "outputs": [
    {
     "data": {
      "text/plain": [
       "group\n",
       "1    0.291057\n",
       "2    0.208456\n",
       "3    0.167613\n",
       "4    0.187895\n",
       "dtype: float64"
      ]
     },
     "execution_count": 11,
     "metadata": {},
     "output_type": "execute_result"
    }
   ],
   "source": [
    "# annualized volatility\n",
    "port_returns.std()*np.sqrt(12)"
   ]
  },
  {
   "cell_type": "code",
   "execution_count": 12,
   "id": "welsh-marsh",
   "metadata": {},
   "outputs": [
    {
     "data": {
      "text/plain": [
       "group\n",
       "1   -8.919742\n",
       "2   -1.613470\n",
       "3    5.375437\n",
       "4    7.977583\n",
       "dtype: float64"
      ]
     },
     "execution_count": 12,
     "metadata": {},
     "output_type": "execute_result"
    }
   ],
   "source": [
    "# annualized Return/Risk Ration, a simplified version of the Sharpe ratio without risk-free fate\n",
    "(port_returns.mean()*12) / port_returns.std()*np.sqrt(12)"
   ]
  },
  {
   "cell_type": "markdown",
   "id": "continued-timeline",
   "metadata": {},
   "source": [
    "We can see that the information signal performs well: **higher groups have higher average return**. Instead of printing these performance measures on screen, we can **store them in a DataFrame.**"
   ]
  },
  {
   "cell_type": "code",
   "execution_count": 13,
   "id": "surrounded-trading",
   "metadata": {},
   "outputs": [
    {
     "data": {
      "text/html": [
       "<div>\n",
       "<style scoped>\n",
       "    .dataframe tbody tr th:only-of-type {\n",
       "        vertical-align: middle;\n",
       "    }\n",
       "\n",
       "    .dataframe tbody tr th {\n",
       "        vertical-align: top;\n",
       "    }\n",
       "\n",
       "    .dataframe thead th {\n",
       "        text-align: right;\n",
       "    }\n",
       "</style>\n",
       "<table border=\"1\" class=\"dataframe\">\n",
       "  <thead>\n",
       "    <tr style=\"text-align: right;\">\n",
       "      <th></th>\n",
       "      <th>Mean Ret</th>\n",
       "      <th>Std Dev</th>\n",
       "      <th>RR Ratio</th>\n",
       "    </tr>\n",
       "    <tr>\n",
       "      <th>group</th>\n",
       "      <th></th>\n",
       "      <th></th>\n",
       "      <th></th>\n",
       "    </tr>\n",
       "  </thead>\n",
       "  <tbody>\n",
       "    <tr>\n",
       "      <th>1</th>\n",
       "      <td>-0.216346</td>\n",
       "      <td>0.291057</td>\n",
       "      <td>-8.919742</td>\n",
       "    </tr>\n",
       "    <tr>\n",
       "      <th>2</th>\n",
       "      <td>-0.028028</td>\n",
       "      <td>0.208456</td>\n",
       "      <td>-1.613470</td>\n",
       "    </tr>\n",
       "    <tr>\n",
       "      <th>3</th>\n",
       "      <td>0.075083</td>\n",
       "      <td>0.167613</td>\n",
       "      <td>5.375437</td>\n",
       "    </tr>\n",
       "    <tr>\n",
       "      <th>4</th>\n",
       "      <td>0.124912</td>\n",
       "      <td>0.187895</td>\n",
       "      <td>7.977583</td>\n",
       "    </tr>\n",
       "  </tbody>\n",
       "</table>\n",
       "</div>"
      ],
      "text/plain": [
       "       Mean Ret   Std Dev  RR Ratio\n",
       "group                              \n",
       "1     -0.216346  0.291057 -8.919742\n",
       "2     -0.028028  0.208456 -1.613470\n",
       "3      0.075083  0.167613  5.375437\n",
       "4      0.124912  0.187895  7.977583"
      ]
     },
     "execution_count": 13,
     "metadata": {},
     "output_type": "execute_result"
    }
   ],
   "source": [
    "mean_return = port_returns.mean()*12\n",
    "volatility = port_returns.std()*np.sqrt(12)\n",
    "rr_ratio = (port_returns.mean()*12) / port_returns.std()*np.sqrt(12)\n",
    "\n",
    "performance = pd.DataFrame({'Mean Ret': mean_return,\n",
    "                            'Std Dev': volatility,\n",
    "                            'RR Ratio': rr_ratio})\n",
    "performance"
   ]
  },
  {
   "cell_type": "markdown",
   "id": "thorough-throw",
   "metadata": {},
   "source": [
    "### 3.1 Plotting Performance\n",
    "We can also plot the performance of each portfolio. To do this, we need to convert monthly returns into a series of portfolio prices. Since we are using logarithmic returns this is trivial. We know that if an asset has, in three periods, returns equal to $r_{1}$, $r_{2}$ and $r_{3}$, than the return from time 0 to time 3 is simply the sum\n",
    "$$r_{0, 3} = \\sum_{t=1}^{3}r_{t}$$\n",
    "\n",
    "And we also know that the dollar value at the end of time 3 of a $1 investment in time 0 is\n",
    "\n",
    "$$W_{3} = \\$1\\times e^{r_{0, 3}}$$\n",
    "\n",
    "We can simply apply the Numpy exponential function [**`numpy.exp()`**](https://numpy.org/doc/stable/reference/generated/numpy.exp.html) to the cumulative returns calculated using the [**`DataFrame.cumsum()`**](https://pandas.pydata.org/pandas-docs/stable/reference/api/pandas.DataFrame.cumsum.html) method. \n"
   ]
  },
  {
   "cell_type": "code",
   "execution_count": 14,
   "id": "daily-portuguese",
   "metadata": {},
   "outputs": [
    {
     "data": {
      "text/html": [
       "<div>\n",
       "<style scoped>\n",
       "    .dataframe tbody tr th:only-of-type {\n",
       "        vertical-align: middle;\n",
       "    }\n",
       "\n",
       "    .dataframe tbody tr th {\n",
       "        vertical-align: top;\n",
       "    }\n",
       "\n",
       "    .dataframe thead th {\n",
       "        text-align: right;\n",
       "    }\n",
       "</style>\n",
       "<table border=\"1\" class=\"dataframe\">\n",
       "  <thead>\n",
       "    <tr style=\"text-align: right;\">\n",
       "      <th>group</th>\n",
       "      <th>1</th>\n",
       "      <th>2</th>\n",
       "      <th>3</th>\n",
       "      <th>4</th>\n",
       "    </tr>\n",
       "    <tr>\n",
       "      <th>date</th>\n",
       "      <th></th>\n",
       "      <th></th>\n",
       "      <th></th>\n",
       "      <th></th>\n",
       "    </tr>\n",
       "  </thead>\n",
       "  <tbody>\n",
       "    <tr>\n",
       "      <th>1980-01-31</th>\n",
       "      <td>0.977814</td>\n",
       "      <td>0.970946</td>\n",
       "      <td>0.958404</td>\n",
       "      <td>0.965584</td>\n",
       "    </tr>\n",
       "    <tr>\n",
       "      <th>1980-02-29</th>\n",
       "      <td>0.781851</td>\n",
       "      <td>0.824643</td>\n",
       "      <td>0.821075</td>\n",
       "      <td>0.829170</td>\n",
       "    </tr>\n",
       "    <tr>\n",
       "      <th>1980-03-31</th>\n",
       "      <td>0.810767</td>\n",
       "      <td>0.871676</td>\n",
       "      <td>0.869616</td>\n",
       "      <td>0.876240</td>\n",
       "    </tr>\n",
       "    <tr>\n",
       "      <th>1980-04-30</th>\n",
       "      <td>0.862500</td>\n",
       "      <td>0.929851</td>\n",
       "      <td>0.938450</td>\n",
       "      <td>0.947194</td>\n",
       "    </tr>\n",
       "    <tr>\n",
       "      <th>1980-05-30</th>\n",
       "      <td>0.887608</td>\n",
       "      <td>0.960032</td>\n",
       "      <td>0.965763</td>\n",
       "      <td>0.992912</td>\n",
       "    </tr>\n",
       "  </tbody>\n",
       "</table>\n",
       "</div>"
      ],
      "text/plain": [
       "group              1         2         3         4\n",
       "date                                              \n",
       "1980-01-31  0.977814  0.970946  0.958404  0.965584\n",
       "1980-02-29  0.781851  0.824643  0.821075  0.829170\n",
       "1980-03-31  0.810767  0.871676  0.869616  0.876240\n",
       "1980-04-30  0.862500  0.929851  0.938450  0.947194\n",
       "1980-05-30  0.887608  0.960032  0.965763  0.992912"
      ]
     },
     "execution_count": 14,
     "metadata": {},
     "output_type": "execute_result"
    }
   ],
   "source": [
    "port_values = port_returns.cumsum().apply(np.exp)\n",
    "port_values.head()"
   ]
  },
  {
   "cell_type": "markdown",
   "id": "cellular-proceeding",
   "metadata": {},
   "source": [
    "And then we can easily **plot them**."
   ]
  },
  {
   "cell_type": "code",
   "execution_count": 15,
   "id": "imperial-anthony",
   "metadata": {},
   "outputs": [
    {
     "data": {
      "text/plain": [
       "<AxesSubplot:title={'center':'Quantile Portfolio Values'}, xlabel='Time', ylabel='Portfolio Value'>"
      ]
     },
     "execution_count": 15,
     "metadata": {},
     "output_type": "execute_result"
    },
    {
     "data": {
      "image/png": "[encoded data removed]",
      "text/plain": [
       "<Figure size 720x432 with 1 Axes>"
      ]
     },
     "metadata": {
      "needs_background": "light"
     },
     "output_type": "display_data"
    }
   ],
   "source": [
    "port_values.plot(figsize=(10,6),\n",
    "                 title='Quantile Portfolio Values',\n",
    "                 xlabel='Time',\n",
    "                 ylabel='Portfolio Value')"
   ]
  },
  {
   "cell_type": "markdown",
   "id": "dried-panama",
   "metadata": {},
   "source": [
    "Visual inspection of the graph confirms that **the information signal has value**: higher signal leads to higher average performance. This is no surprise given the higher average monthly return, but when you present your strategy to possible investors, **a graph is worth 10 tables**...\n",
    "\n",
    "This graph is not very easy to read. The last quintile portfolio has a very strong performance that, on a linear scale, makes the performance of the other portfolios difficult to read. To be able to compare the returns graphically we need to plot the portfolio values on a **logarithmic scale**."
   ]
  },
  {
   "cell_type": "code",
   "execution_count": 16,
   "id": "extreme-digit",
   "metadata": {},
   "outputs": [
    {
     "data": {
      "text/plain": [
       "<AxesSubplot:title={'center':'Quantile Portfolio Values'}, xlabel='Time', ylabel='Portfolio Value (Log-Scale)'>"
      ]
     },
     "execution_count": 16,
     "metadata": {},
     "output_type": "execute_result"
    },
    {
     "data": {
      "image/png": "[encoded data removed]",
      "text/plain": [
       "<Figure size 720x432 with 1 Axes>"
      ]
     },
     "metadata": {
      "needs_background": "light"
     },
     "output_type": "display_data"
    }
   ],
   "source": [
    "port_values.plot(figsize=(10,6),\n",
    "                 title='Quantile Portfolio Values',\n",
    "                 xlabel='Time',\n",
    "                 ylabel='Portfolio Value (Log-Scale)',\n",
    "                 logy=True) #the last argument specifies log-scale for the Y axis"
   ]
  },
  {
   "cell_type": "markdown",
   "id": "frank-count",
   "metadata": {},
   "source": [
    "Now we clearly see that the ranking of the portfolio performance is as expected: the lower the information signal, the worse is the performance."
   ]
  },
  {
   "cell_type": "markdown",
   "id": "indian-formula",
   "metadata": {},
   "source": [
    "___\n",
    "## 4. Zero-Investment Portfolios\n",
    "So far we have analyzed the performance of an hypothetical portfolio strategy of the type _\"Invest in Group 4\"_ or _\"Invest in Group N\"_. Even if our signal is very good, such a **long-only strategy** could still experience significant losses if the market as a whole falls. The performance of our portfolios **during the GFC** is an example of this.\n",
    "\n",
    "The reason for this apparent \"bug\" in our approach, is that our alpha model produces **relative bets**, so we should **invest accordingly**. We do not know that group N will _perform \"well\"_, we know that it will likely perform _\"better than group 1\"_, or _\"better than the market\"_ (the two bets are equivalent: the market is made of group 1, 2, ..., N).\n",
    "\n",
    "We can simulate the performance of two different **zero-investment strategies**:\n",
    "* We go long in the \"best\" group and short on the \"worst\" group.\n",
    "* We go long in the \"best\" group and short on the market.\n",
    "\n",
    "These strategies are called zero-investment because in an ideal world we could **use the proceeds** from the short positions to finance the investment in the long positions. This is not really the case, as the market regulators normally require **margin deposits** to guarantee the short positions.\n",
    "\n",
    "Since this is not a realistic backtesting but we are simply doing some non-linear statistical analysis let's start by using the **average return of all the stocks** as a proxy for the market return:"
   ]
  },
  {
   "cell_type": "code",
   "execution_count": 17,
   "id": "aggregate-pontiac",
   "metadata": {},
   "outputs": [
    {
     "data": {
      "text/plain": [
       "date\n",
       "1980-01-31   -0.032348\n",
       "1980-02-29   -0.173489\n",
       "1980-03-31    0.051106\n",
       "1980-04-30    0.070126\n",
       "1980-05-30    0.034119\n",
       "Name: Benchmark, dtype: float64"
      ]
     },
     "execution_count": 17,
     "metadata": {},
     "output_type": "execute_result"
    }
   ],
   "source": [
    "benchmark_return = data.groupby('date')['fut_ret'].mean().rename('Benchmark')\n",
    "benchmark_return.head()"
   ]
  },
  {
   "cell_type": "markdown",
   "id": "attended-kansas",
   "metadata": {},
   "source": [
    "Let's merge this into the `port_returns` DataFrame"
   ]
  },
  {
   "cell_type": "code",
   "execution_count": 18,
   "id": "thirty-history",
   "metadata": {},
   "outputs": [
    {
     "data": {
      "text/html": [
       "<div>\n",
       "<style scoped>\n",
       "    .dataframe tbody tr th:only-of-type {\n",
       "        vertical-align: middle;\n",
       "    }\n",
       "\n",
       "    .dataframe tbody tr th {\n",
       "        vertical-align: top;\n",
       "    }\n",
       "\n",
       "    .dataframe thead th {\n",
       "        text-align: right;\n",
       "    }\n",
       "</style>\n",
       "<table border=\"1\" class=\"dataframe\">\n",
       "  <thead>\n",
       "    <tr style=\"text-align: right;\">\n",
       "      <th></th>\n",
       "      <th>1</th>\n",
       "      <th>2</th>\n",
       "      <th>3</th>\n",
       "      <th>4</th>\n",
       "      <th>Benchmark</th>\n",
       "    </tr>\n",
       "    <tr>\n",
       "      <th>date</th>\n",
       "      <th></th>\n",
       "      <th></th>\n",
       "      <th></th>\n",
       "      <th></th>\n",
       "      <th></th>\n",
       "    </tr>\n",
       "  </thead>\n",
       "  <tbody>\n",
       "    <tr>\n",
       "      <th>1980-01-31</th>\n",
       "      <td>-0.022436</td>\n",
       "      <td>-0.029484</td>\n",
       "      <td>-0.042486</td>\n",
       "      <td>-0.035022</td>\n",
       "      <td>-0.032348</td>\n",
       "    </tr>\n",
       "    <tr>\n",
       "      <th>1980-02-29</th>\n",
       "      <td>-0.223656</td>\n",
       "      <td>-0.163320</td>\n",
       "      <td>-0.154655</td>\n",
       "      <td>-0.152308</td>\n",
       "      <td>-0.173489</td>\n",
       "    </tr>\n",
       "    <tr>\n",
       "      <th>1980-03-31</th>\n",
       "      <td>0.036317</td>\n",
       "      <td>0.055467</td>\n",
       "      <td>0.057437</td>\n",
       "      <td>0.055215</td>\n",
       "      <td>0.051106</td>\n",
       "    </tr>\n",
       "    <tr>\n",
       "      <th>1980-04-30</th>\n",
       "      <td>0.061855</td>\n",
       "      <td>0.064607</td>\n",
       "      <td>0.076178</td>\n",
       "      <td>0.077865</td>\n",
       "      <td>0.070126</td>\n",
       "    </tr>\n",
       "    <tr>\n",
       "      <th>1980-05-30</th>\n",
       "      <td>0.028694</td>\n",
       "      <td>0.031942</td>\n",
       "      <td>0.028689</td>\n",
       "      <td>0.047138</td>\n",
       "      <td>0.034119</td>\n",
       "    </tr>\n",
       "  </tbody>\n",
       "</table>\n",
       "</div>"
      ],
      "text/plain": [
       "                   1         2         3         4  Benchmark\n",
       "date                                                         \n",
       "1980-01-31 -0.022436 -0.029484 -0.042486 -0.035022  -0.032348\n",
       "1980-02-29 -0.223656 -0.163320 -0.154655 -0.152308  -0.173489\n",
       "1980-03-31  0.036317  0.055467  0.057437  0.055215   0.051106\n",
       "1980-04-30  0.061855  0.064607  0.076178  0.077865   0.070126\n",
       "1980-05-30  0.028694  0.031942  0.028689  0.047138   0.034119"
      ]
     },
     "execution_count": 18,
     "metadata": {},
     "output_type": "execute_result"
    }
   ],
   "source": [
    "port_returns = port_returns.join(benchmark_return.to_frame())\n",
    "port_returns.head()"
   ]
  },
  {
   "cell_type": "markdown",
   "id": "educated-christmas",
   "metadata": {},
   "source": [
    "Let's now create a zero-investment strategy called `Active` where we go long on the best portfolio and short on the market. In the same way we can create a second zero-investment strategy called `Neutral` where we go long on the best group and short on the worst:"
   ]
  },
  {
   "cell_type": "code",
   "execution_count": 19,
   "id": "improving-advisory",
   "metadata": {},
   "outputs": [
    {
     "data": {
      "text/html": [
       "<div>\n",
       "<style scoped>\n",
       "    .dataframe tbody tr th:only-of-type {\n",
       "        vertical-align: middle;\n",
       "    }\n",
       "\n",
       "    .dataframe tbody tr th {\n",
       "        vertical-align: top;\n",
       "    }\n",
       "\n",
       "    .dataframe thead th {\n",
       "        text-align: right;\n",
       "    }\n",
       "</style>\n",
       "<table border=\"1\" class=\"dataframe\">\n",
       "  <thead>\n",
       "    <tr style=\"text-align: right;\">\n",
       "      <th></th>\n",
       "      <th>1</th>\n",
       "      <th>2</th>\n",
       "      <th>3</th>\n",
       "      <th>4</th>\n",
       "      <th>Benchmark</th>\n",
       "      <th>Active</th>\n",
       "      <th>Neutral</th>\n",
       "    </tr>\n",
       "    <tr>\n",
       "      <th>date</th>\n",
       "      <th></th>\n",
       "      <th></th>\n",
       "      <th></th>\n",
       "      <th></th>\n",
       "      <th></th>\n",
       "      <th></th>\n",
       "      <th></th>\n",
       "    </tr>\n",
       "  </thead>\n",
       "  <tbody>\n",
       "    <tr>\n",
       "      <th>1980-01-31</th>\n",
       "      <td>-0.022436</td>\n",
       "      <td>-0.029484</td>\n",
       "      <td>-0.042486</td>\n",
       "      <td>-0.035022</td>\n",
       "      <td>-0.032348</td>\n",
       "      <td>-0.002674</td>\n",
       "      <td>-0.012586</td>\n",
       "    </tr>\n",
       "    <tr>\n",
       "      <th>1980-02-29</th>\n",
       "      <td>-0.223656</td>\n",
       "      <td>-0.163320</td>\n",
       "      <td>-0.154655</td>\n",
       "      <td>-0.152308</td>\n",
       "      <td>-0.173489</td>\n",
       "      <td>0.021180</td>\n",
       "      <td>0.071347</td>\n",
       "    </tr>\n",
       "    <tr>\n",
       "      <th>1980-03-31</th>\n",
       "      <td>0.036317</td>\n",
       "      <td>0.055467</td>\n",
       "      <td>0.057437</td>\n",
       "      <td>0.055215</td>\n",
       "      <td>0.051106</td>\n",
       "      <td>0.004108</td>\n",
       "      <td>0.018898</td>\n",
       "    </tr>\n",
       "    <tr>\n",
       "      <th>1980-04-30</th>\n",
       "      <td>0.061855</td>\n",
       "      <td>0.064607</td>\n",
       "      <td>0.076178</td>\n",
       "      <td>0.077865</td>\n",
       "      <td>0.070126</td>\n",
       "      <td>0.007739</td>\n",
       "      <td>0.016010</td>\n",
       "    </tr>\n",
       "    <tr>\n",
       "      <th>1980-05-30</th>\n",
       "      <td>0.028694</td>\n",
       "      <td>0.031942</td>\n",
       "      <td>0.028689</td>\n",
       "      <td>0.047138</td>\n",
       "      <td>0.034119</td>\n",
       "      <td>0.013019</td>\n",
       "      <td>0.018444</td>\n",
       "    </tr>\n",
       "  </tbody>\n",
       "</table>\n",
       "</div>"
      ],
      "text/plain": [
       "                   1         2         3         4  Benchmark    Active  \\\n",
       "date                                                                      \n",
       "1980-01-31 -0.022436 -0.029484 -0.042486 -0.035022  -0.032348 -0.002674   \n",
       "1980-02-29 -0.223656 -0.163320 -0.154655 -0.152308  -0.173489  0.021180   \n",
       "1980-03-31  0.036317  0.055467  0.057437  0.055215   0.051106  0.004108   \n",
       "1980-04-30  0.061855  0.064607  0.076178  0.077865   0.070126  0.007739   \n",
       "1980-05-30  0.028694  0.031942  0.028689  0.047138   0.034119  0.013019   \n",
       "\n",
       "             Neutral  \n",
       "date                  \n",
       "1980-01-31 -0.012586  \n",
       "1980-02-29  0.071347  \n",
       "1980-03-31  0.018898  \n",
       "1980-04-30  0.016010  \n",
       "1980-05-30  0.018444  "
      ]
     },
     "execution_count": 19,
     "metadata": {},
     "output_type": "execute_result"
    }
   ],
   "source": [
    "port_returns['Active'] = port_returns[N] - port_returns['Benchmark']\n",
    "port_returns['Neutral'] = port_returns[N] - port_returns[1]\n",
    "port_returns.head()"
   ]
  },
  {
   "cell_type": "code",
   "execution_count": 20,
   "id": "introductory-secretariat",
   "metadata": {},
   "outputs": [
    {
     "data": {
      "text/html": [
       "<div>\n",
       "<style scoped>\n",
       "    .dataframe tbody tr th:only-of-type {\n",
       "        vertical-align: middle;\n",
       "    }\n",
       "\n",
       "    .dataframe tbody tr th {\n",
       "        vertical-align: top;\n",
       "    }\n",
       "\n",
       "    .dataframe thead th {\n",
       "        text-align: right;\n",
       "    }\n",
       "</style>\n",
       "<table border=\"1\" class=\"dataframe\">\n",
       "  <thead>\n",
       "    <tr style=\"text-align: right;\">\n",
       "      <th></th>\n",
       "      <th>Mean Return</th>\n",
       "      <th>St. Dev.</th>\n",
       "      <th>RR_ratio</th>\n",
       "    </tr>\n",
       "  </thead>\n",
       "  <tbody>\n",
       "    <tr>\n",
       "      <th>1</th>\n",
       "      <td>-0.216346</td>\n",
       "      <td>0.291057</td>\n",
       "      <td>-0.743312</td>\n",
       "    </tr>\n",
       "    <tr>\n",
       "      <th>2</th>\n",
       "      <td>-0.028028</td>\n",
       "      <td>0.208456</td>\n",
       "      <td>-0.134456</td>\n",
       "    </tr>\n",
       "    <tr>\n",
       "      <th>3</th>\n",
       "      <td>0.075083</td>\n",
       "      <td>0.167613</td>\n",
       "      <td>0.447953</td>\n",
       "    </tr>\n",
       "    <tr>\n",
       "      <th>4</th>\n",
       "      <td>0.124912</td>\n",
       "      <td>0.187895</td>\n",
       "      <td>0.664799</td>\n",
       "    </tr>\n",
       "    <tr>\n",
       "      <th>Benchmark</th>\n",
       "      <td>-0.011387</td>\n",
       "      <td>0.204122</td>\n",
       "      <td>-0.055786</td>\n",
       "    </tr>\n",
       "    <tr>\n",
       "      <th>Active</th>\n",
       "      <td>0.136300</td>\n",
       "      <td>0.065662</td>\n",
       "      <td>2.075766</td>\n",
       "    </tr>\n",
       "    <tr>\n",
       "      <th>Neutral</th>\n",
       "      <td>0.341259</td>\n",
       "      <td>0.171361</td>\n",
       "      <td>1.991463</td>\n",
       "    </tr>\n",
       "  </tbody>\n",
       "</table>\n",
       "</div>"
      ],
      "text/plain": [
       "           Mean Return  St. Dev.  RR_ratio\n",
       "1            -0.216346  0.291057 -0.743312\n",
       "2            -0.028028  0.208456 -0.134456\n",
       "3             0.075083  0.167613  0.447953\n",
       "4             0.124912  0.187895  0.664799\n",
       "Benchmark    -0.011387  0.204122 -0.055786\n",
       "Active        0.136300  0.065662  2.075766\n",
       "Neutral       0.341259  0.171361  1.991463"
      ]
     },
     "execution_count": 20,
     "metadata": {},
     "output_type": "execute_result"
    }
   ],
   "source": [
    "mean_return = port_returns.mean()*12\n",
    "volatility = port_returns.std()*np.sqrt(12)\n",
    "rr_ratio = (port_returns.mean()*12) / (port_returns.std()*np.sqrt(12))\n",
    "\n",
    "performance = pd.DataFrame({'Mean Return': mean_return,\n",
    "                            'St. Dev.': volatility,\n",
    "                            'RR_ratio': rr_ratio})\n",
    "\n",
    "performance"
   ]
  },
  {
   "cell_type": "markdown",
   "id": "sorted-wound",
   "metadata": {},
   "source": [
    "We see that both zero-investment strategies yield a good performance. Let's plot them:"
   ]
  },
  {
   "cell_type": "code",
   "execution_count": 21,
   "id": "concrete-jurisdiction",
   "metadata": {},
   "outputs": [
    {
     "data": {
      "text/html": [
       "<div>\n",
       "<style scoped>\n",
       "    .dataframe tbody tr th:only-of-type {\n",
       "        vertical-align: middle;\n",
       "    }\n",
       "\n",
       "    .dataframe tbody tr th {\n",
       "        vertical-align: top;\n",
       "    }\n",
       "\n",
       "    .dataframe thead th {\n",
       "        text-align: right;\n",
       "    }\n",
       "</style>\n",
       "<table border=\"1\" class=\"dataframe\">\n",
       "  <thead>\n",
       "    <tr style=\"text-align: right;\">\n",
       "      <th></th>\n",
       "      <th>1</th>\n",
       "      <th>2</th>\n",
       "      <th>3</th>\n",
       "      <th>4</th>\n",
       "      <th>Benchmark</th>\n",
       "      <th>Active</th>\n",
       "      <th>Neutral</th>\n",
       "    </tr>\n",
       "    <tr>\n",
       "      <th>date</th>\n",
       "      <th></th>\n",
       "      <th></th>\n",
       "      <th></th>\n",
       "      <th></th>\n",
       "      <th></th>\n",
       "      <th></th>\n",
       "      <th></th>\n",
       "    </tr>\n",
       "  </thead>\n",
       "  <tbody>\n",
       "    <tr>\n",
       "      <th>1980-01-31</th>\n",
       "      <td>0.977814</td>\n",
       "      <td>0.970946</td>\n",
       "      <td>0.958404</td>\n",
       "      <td>0.965584</td>\n",
       "      <td>0.968170</td>\n",
       "      <td>0.997330</td>\n",
       "      <td>0.987493</td>\n",
       "    </tr>\n",
       "    <tr>\n",
       "      <th>1980-02-29</th>\n",
       "      <td>0.781851</td>\n",
       "      <td>0.824643</td>\n",
       "      <td>0.821075</td>\n",
       "      <td>0.829170</td>\n",
       "      <td>0.813966</td>\n",
       "      <td>1.018679</td>\n",
       "      <td>1.060522</td>\n",
       "    </tr>\n",
       "    <tr>\n",
       "      <th>1980-03-31</th>\n",
       "      <td>0.810767</td>\n",
       "      <td>0.871676</td>\n",
       "      <td>0.869616</td>\n",
       "      <td>0.876240</td>\n",
       "      <td>0.856646</td>\n",
       "      <td>1.022872</td>\n",
       "      <td>1.080754</td>\n",
       "    </tr>\n",
       "    <tr>\n",
       "      <th>1980-04-30</th>\n",
       "      <td>0.862500</td>\n",
       "      <td>0.929851</td>\n",
       "      <td>0.938450</td>\n",
       "      <td>0.947194</td>\n",
       "      <td>0.918876</td>\n",
       "      <td>1.030819</td>\n",
       "      <td>1.098196</td>\n",
       "    </tr>\n",
       "    <tr>\n",
       "      <th>1980-05-30</th>\n",
       "      <td>0.887608</td>\n",
       "      <td>0.960032</td>\n",
       "      <td>0.965763</td>\n",
       "      <td>0.992912</td>\n",
       "      <td>0.950768</td>\n",
       "      <td>1.044327</td>\n",
       "      <td>1.118639</td>\n",
       "    </tr>\n",
       "  </tbody>\n",
       "</table>\n",
       "</div>"
      ],
      "text/plain": [
       "                   1         2         3         4  Benchmark    Active  \\\n",
       "date                                                                      \n",
       "1980-01-31  0.977814  0.970946  0.958404  0.965584   0.968170  0.997330   \n",
       "1980-02-29  0.781851  0.824643  0.821075  0.829170   0.813966  1.018679   \n",
       "1980-03-31  0.810767  0.871676  0.869616  0.876240   0.856646  1.022872   \n",
       "1980-04-30  0.862500  0.929851  0.938450  0.947194   0.918876  1.030819   \n",
       "1980-05-30  0.887608  0.960032  0.965763  0.992912   0.950768  1.044327   \n",
       "\n",
       "             Neutral  \n",
       "date                  \n",
       "1980-01-31  0.987493  \n",
       "1980-02-29  1.060522  \n",
       "1980-03-31  1.080754  \n",
       "1980-04-30  1.098196  \n",
       "1980-05-30  1.118639  "
      ]
     },
     "execution_count": 21,
     "metadata": {},
     "output_type": "execute_result"
    }
   ],
   "source": [
    "port_values = port_returns.cumsum().apply(np.exp)\n",
    "port_values.head()"
   ]
  },
  {
   "cell_type": "code",
   "execution_count": 22,
   "id": "exempt-minutes",
   "metadata": {},
   "outputs": [
    {
     "data": {
      "text/plain": [
       "<AxesSubplot:title={'center':'Zero-Investment Portfolio Value'}, xlabel='Time', ylabel='Portfolio Value (Log-Scale)'>"
      ]
     },
     "execution_count": 22,
     "metadata": {},
     "output_type": "execute_result"
    },
    {
     "data": {
      "image/png": "[encoded data removed]",
      "text/plain": [
       "<Figure size 720x432 with 1 Axes>"
      ]
     },
     "metadata": {
      "needs_background": "light"
     },
     "output_type": "display_data"
    }
   ],
   "source": [
    "port_values[['Active', 'Neutral']].plot(figsize=(10,6),\n",
    "                                        title='Zero-Investment Portfolio Value',\n",
    "                                        xlabel='Time',\n",
    "                                        ylabel='Portfolio Value (Log-Scale)',\n",
    "                                        logy=True)"
   ]
  },
  {
   "cell_type": "markdown",
   "id": "behavioral-burns",
   "metadata": {},
   "source": [
    "Now we see that our alpha model performs well also during the GFC: **the relative bet still yields a positve performance** in that period."
   ]
  },
  {
   "cell_type": "markdown",
   "id": "broad-campaign",
   "metadata": {},
   "source": [
    "### 4.1. Period analysis\n",
    "The fact that our signal has predictive power, on average, between 1980 and 2020 is relevant, but we may be interested to observe the performance in **different periods of time**. "
   ]
  },
  {
   "cell_type": "code",
   "execution_count": 23,
   "id": "affecting-nature",
   "metadata": {},
   "outputs": [
    {
     "data": {
      "text/html": [
       "<div>\n",
       "<style scoped>\n",
       "    .dataframe tbody tr th:only-of-type {\n",
       "        vertical-align: middle;\n",
       "    }\n",
       "\n",
       "    .dataframe tbody tr th {\n",
       "        vertical-align: top;\n",
       "    }\n",
       "\n",
       "    .dataframe thead th {\n",
       "        text-align: right;\n",
       "    }\n",
       "</style>\n",
       "<table border=\"1\" class=\"dataframe\">\n",
       "  <thead>\n",
       "    <tr style=\"text-align: right;\">\n",
       "      <th></th>\n",
       "      <th>1</th>\n",
       "      <th>2</th>\n",
       "      <th>3</th>\n",
       "      <th>4</th>\n",
       "      <th>Benchmark</th>\n",
       "      <th>Active</th>\n",
       "      <th>Neutral</th>\n",
       "      <th>year</th>\n",
       "    </tr>\n",
       "    <tr>\n",
       "      <th>date</th>\n",
       "      <th></th>\n",
       "      <th></th>\n",
       "      <th></th>\n",
       "      <th></th>\n",
       "      <th></th>\n",
       "      <th></th>\n",
       "      <th></th>\n",
       "      <th></th>\n",
       "    </tr>\n",
       "  </thead>\n",
       "  <tbody>\n",
       "    <tr>\n",
       "      <th>1980-01-31</th>\n",
       "      <td>-0.022436</td>\n",
       "      <td>-0.029484</td>\n",
       "      <td>-0.042486</td>\n",
       "      <td>-0.035022</td>\n",
       "      <td>-0.032348</td>\n",
       "      <td>-0.002674</td>\n",
       "      <td>-0.012586</td>\n",
       "      <td>1980</td>\n",
       "    </tr>\n",
       "    <tr>\n",
       "      <th>1980-02-29</th>\n",
       "      <td>-0.223656</td>\n",
       "      <td>-0.163320</td>\n",
       "      <td>-0.154655</td>\n",
       "      <td>-0.152308</td>\n",
       "      <td>-0.173489</td>\n",
       "      <td>0.021180</td>\n",
       "      <td>0.071347</td>\n",
       "      <td>1980</td>\n",
       "    </tr>\n",
       "    <tr>\n",
       "      <th>1980-03-31</th>\n",
       "      <td>0.036317</td>\n",
       "      <td>0.055467</td>\n",
       "      <td>0.057437</td>\n",
       "      <td>0.055215</td>\n",
       "      <td>0.051106</td>\n",
       "      <td>0.004108</td>\n",
       "      <td>0.018898</td>\n",
       "      <td>1980</td>\n",
       "    </tr>\n",
       "    <tr>\n",
       "      <th>1980-04-30</th>\n",
       "      <td>0.061855</td>\n",
       "      <td>0.064607</td>\n",
       "      <td>0.076178</td>\n",
       "      <td>0.077865</td>\n",
       "      <td>0.070126</td>\n",
       "      <td>0.007739</td>\n",
       "      <td>0.016010</td>\n",
       "      <td>1980</td>\n",
       "    </tr>\n",
       "    <tr>\n",
       "      <th>1980-05-30</th>\n",
       "      <td>0.028694</td>\n",
       "      <td>0.031942</td>\n",
       "      <td>0.028689</td>\n",
       "      <td>0.047138</td>\n",
       "      <td>0.034119</td>\n",
       "      <td>0.013019</td>\n",
       "      <td>0.018444</td>\n",
       "      <td>1980</td>\n",
       "    </tr>\n",
       "  </tbody>\n",
       "</table>\n",
       "</div>"
      ],
      "text/plain": [
       "                   1         2         3         4  Benchmark    Active  \\\n",
       "date                                                                      \n",
       "1980-01-31 -0.022436 -0.029484 -0.042486 -0.035022  -0.032348 -0.002674   \n",
       "1980-02-29 -0.223656 -0.163320 -0.154655 -0.152308  -0.173489  0.021180   \n",
       "1980-03-31  0.036317  0.055467  0.057437  0.055215   0.051106  0.004108   \n",
       "1980-04-30  0.061855  0.064607  0.076178  0.077865   0.070126  0.007739   \n",
       "1980-05-30  0.028694  0.031942  0.028689  0.047138   0.034119  0.013019   \n",
       "\n",
       "             Neutral  year  \n",
       "date                        \n",
       "1980-01-31 -0.012586  1980  \n",
       "1980-02-29  0.071347  1980  \n",
       "1980-03-31  0.018898  1980  \n",
       "1980-04-30  0.016010  1980  \n",
       "1980-05-30  0.018444  1980  "
      ]
     },
     "execution_count": 23,
     "metadata": {},
     "output_type": "execute_result"
    }
   ],
   "source": [
    "# we extract the year from the index of the DataFrame\n",
    "port_returns['year'] = port_returns.index.year\n",
    "port_returns.head()"
   ]
  },
  {
   "cell_type": "code",
   "execution_count": 24,
   "id": "romantic-crazy",
   "metadata": {},
   "outputs": [
    {
     "data": {
      "text/plain": [
       "<AxesSubplot:title={'center':'Active Return (Top - Bottom)'}, xlabel='Year', ylabel='Annualized Mean Monthly Return'>"
      ]
     },
     "execution_count": 24,
     "metadata": {},
     "output_type": "execute_result"
    },
    {
     "data": {
      "image/png": "[encoded data removed]",
      "text/plain": [
       "<Figure size 720x432 with 1 Axes>"
      ]
     },
     "metadata": {
      "needs_background": "light"
     },
     "output_type": "display_data"
    }
   ],
   "source": [
    "# we can recalculate all our diagnostics by year, for example:\n",
    "mean_active = port_returns.groupby('year')['Active'].mean()*12\n",
    "mean_active.plot(figsize=(10,6),\n",
    "                 kind='bar',\n",
    "                 title='Active Return (Top - Bottom)',\n",
    "                 xlabel='Year',\n",
    "                 ylabel='Annualized Mean Monthly Return')"
   ]
  },
  {
   "cell_type": "markdown",
   "id": "virtual-explosion",
   "metadata": {},
   "source": [
    "And we see that our information signal has predictive power more or less **constantly across our sample**. We also observe that the model **failed during the GFC**. Period analysis can provide many insights, for example we could find out that our signal has not worked well in the last few years..."
   ]
  },
  {
   "cell_type": "markdown",
   "id": "continuing-ordering",
   "metadata": {},
   "source": [
    "___\n",
    "## 5. In Production\n",
    "As usual, now that we understand the nature of this analysis we want to encapsulate all the relevant code in an easy-to-use function."
   ]
  },
  {
   "cell_type": "code",
   "execution_count": 25,
   "id": "accessory-immigration",
   "metadata": {},
   "outputs": [],
   "source": [
    "#Let's also create a function with the calculation of the performance measures given the return of our portfolios\n",
    "\n",
    "def diagnostics(port_returns):\n",
    "    \n",
    "    mean_return = port_returns.mean()*12\n",
    "    volatility = port_returns.std()*np.sqrt(12)\n",
    "    rr_ratio = (port_returns.mean()*12) / (port_returns.std()*np.sqrt(12))\n",
    "\n",
    "    performance = pd.DataFrame({'Mean Ret': mean_return,\n",
    "                                'Std Dev': volatility,\n",
    "                                'RR Ratio': rr_ratio})\n",
    "    \n",
    "    return performance\n",
    "\n",
    "\n",
    "# Let's now create the main function that runs the quantile analysis. At the end this function will call the diagnostic \n",
    "# function and create the table with the performance measures. Notice that this function returns two outputs\n",
    "\n",
    "def quantile_analysis(signal, prices, n_bins=4):\n",
    "    \n",
    "    #We capture the name of the factor using the .name attribute to use it later\n",
    "    signal_name = signal.name\n",
    "    \n",
    "    #We calculate the future returns\n",
    "    future_returns = np.log(prices.groupby('id').shift(-1) / prices).rename('fut_ret')\n",
    "    \n",
    "    #We join the signal with the future returns\n",
    "    data = signal.to_frame().join(future_returns).dropna()\n",
    "    \n",
    "    #We apply the pandas.qcut() function using a lambda function\n",
    "    data['group'] = data.groupby('date')[signal_name].apply(lambda x: pd.qcut(x,n_bins, labels=False))+1\n",
    "    \n",
    "    #We calculate the average return of the groups\n",
    "    portfolios = data.groupby(['date','group']).mean()\n",
    "    \n",
    "    #We rearrange the results in order to have one group per column\n",
    "    port_returns = portfolios['fut_ret'].unstack(level=1) \n",
    "    \n",
    "    #We calculate the benchmark return\n",
    "    benchmark_return = data.groupby('date')['fut_ret'].mean().rename('Benchmark')\n",
    "    port_returns = port_returns.join(benchmark_return.to_frame())\n",
    "    \n",
    "    #We calculate the return of the zero-investment portfolios\n",
    "    port_returns['Active'] = port_returns[n_bins] - port_returns['Benchmark']\n",
    "    port_returns['Neutral'] = port_returns[n_bins] - port_returns[1]\n",
    "    \n",
    "    performance = diagnostics(port_returns)\n",
    "    \n",
    "    return port_returns, performance"
   ]
  },
  {
   "cell_type": "markdown",
   "id": "chronic-affair",
   "metadata": {},
   "source": [
    "And now, if we want to run the analysis again **using 5 quintiles**, we can do everything with two simple lines of code:"
   ]
  },
  {
   "cell_type": "code",
   "execution_count": 26,
   "id": "worldwide-illinois",
   "metadata": {},
   "outputs": [
    {
     "data": {
      "text/html": [
       "<div>\n",
       "<style scoped>\n",
       "    .dataframe tbody tr th:only-of-type {\n",
       "        vertical-align: middle;\n",
       "    }\n",
       "\n",
       "    .dataframe tbody tr th {\n",
       "        vertical-align: top;\n",
       "    }\n",
       "\n",
       "    .dataframe thead th {\n",
       "        text-align: right;\n",
       "    }\n",
       "</style>\n",
       "<table border=\"1\" class=\"dataframe\">\n",
       "  <thead>\n",
       "    <tr style=\"text-align: right;\">\n",
       "      <th></th>\n",
       "      <th>1</th>\n",
       "      <th>2</th>\n",
       "      <th>3</th>\n",
       "      <th>4</th>\n",
       "      <th>5</th>\n",
       "      <th>Benchmark</th>\n",
       "      <th>Active</th>\n",
       "      <th>Neutral</th>\n",
       "    </tr>\n",
       "    <tr>\n",
       "      <th>date</th>\n",
       "      <th></th>\n",
       "      <th></th>\n",
       "      <th></th>\n",
       "      <th></th>\n",
       "      <th></th>\n",
       "      <th></th>\n",
       "      <th></th>\n",
       "      <th></th>\n",
       "    </tr>\n",
       "  </thead>\n",
       "  <tbody>\n",
       "    <tr>\n",
       "      <th>1980-01-31</th>\n",
       "      <td>-0.020218</td>\n",
       "      <td>-0.028034</td>\n",
       "      <td>-0.033652</td>\n",
       "      <td>-0.047383</td>\n",
       "      <td>-0.032369</td>\n",
       "      <td>-0.032348</td>\n",
       "      <td>-0.000021</td>\n",
       "      <td>-0.012151</td>\n",
       "    </tr>\n",
       "    <tr>\n",
       "      <th>1980-02-29</th>\n",
       "      <td>-0.235372</td>\n",
       "      <td>-0.170278</td>\n",
       "      <td>-0.153054</td>\n",
       "      <td>-0.151388</td>\n",
       "      <td>-0.157213</td>\n",
       "      <td>-0.173489</td>\n",
       "      <td>0.016276</td>\n",
       "      <td>0.078160</td>\n",
       "    </tr>\n",
       "    <tr>\n",
       "      <th>1980-03-31</th>\n",
       "      <td>0.032646</td>\n",
       "      <td>0.052790</td>\n",
       "      <td>0.061774</td>\n",
       "      <td>0.054751</td>\n",
       "      <td>0.053595</td>\n",
       "      <td>0.051106</td>\n",
       "      <td>0.002488</td>\n",
       "      <td>0.020949</td>\n",
       "    </tr>\n",
       "    <tr>\n",
       "      <th>1980-04-30</th>\n",
       "      <td>0.058263</td>\n",
       "      <td>0.067841</td>\n",
       "      <td>0.068295</td>\n",
       "      <td>0.074945</td>\n",
       "      <td>0.081287</td>\n",
       "      <td>0.070126</td>\n",
       "      <td>0.011161</td>\n",
       "      <td>0.023024</td>\n",
       "    </tr>\n",
       "    <tr>\n",
       "      <th>1980-05-30</th>\n",
       "      <td>0.028218</td>\n",
       "      <td>0.031401</td>\n",
       "      <td>0.029925</td>\n",
       "      <td>0.033525</td>\n",
       "      <td>0.047477</td>\n",
       "      <td>0.034119</td>\n",
       "      <td>0.013358</td>\n",
       "      <td>0.019259</td>\n",
       "    </tr>\n",
       "  </tbody>\n",
       "</table>\n",
       "</div>"
      ],
      "text/plain": [
       "                   1         2         3         4         5  Benchmark  \\\n",
       "date                                                                      \n",
       "1980-01-31 -0.020218 -0.028034 -0.033652 -0.047383 -0.032369  -0.032348   \n",
       "1980-02-29 -0.235372 -0.170278 -0.153054 -0.151388 -0.157213  -0.173489   \n",
       "1980-03-31  0.032646  0.052790  0.061774  0.054751  0.053595   0.051106   \n",
       "1980-04-30  0.058263  0.067841  0.068295  0.074945  0.081287   0.070126   \n",
       "1980-05-30  0.028218  0.031401  0.029925  0.033525  0.047477   0.034119   \n",
       "\n",
       "              Active   Neutral  \n",
       "date                            \n",
       "1980-01-31 -0.000021 -0.012151  \n",
       "1980-02-29  0.016276  0.078160  \n",
       "1980-03-31  0.002488  0.020949  \n",
       "1980-04-30  0.011161  0.023024  \n",
       "1980-05-30  0.013358  0.019259  "
      ]
     },
     "execution_count": 26,
     "metadata": {},
     "output_type": "execute_result"
    }
   ],
   "source": [
    "return_5, performance_5 = quantile_analysis(signal['epq'], prices['price'], n_bins = 5)\n",
    "\n",
    "return_5.head()"
   ]
  },
  {
   "cell_type": "code",
   "execution_count": 27,
   "id": "north-supervision",
   "metadata": {},
   "outputs": [
    {
     "data": {
      "text/html": [
       "<div>\n",
       "<style scoped>\n",
       "    .dataframe tbody tr th:only-of-type {\n",
       "        vertical-align: middle;\n",
       "    }\n",
       "\n",
       "    .dataframe tbody tr th {\n",
       "        vertical-align: top;\n",
       "    }\n",
       "\n",
       "    .dataframe thead th {\n",
       "        text-align: right;\n",
       "    }\n",
       "</style>\n",
       "<table border=\"1\" class=\"dataframe\">\n",
       "  <thead>\n",
       "    <tr style=\"text-align: right;\">\n",
       "      <th></th>\n",
       "      <th>Mean Ret</th>\n",
       "      <th>Std Dev</th>\n",
       "      <th>RR Ratio</th>\n",
       "    </tr>\n",
       "  </thead>\n",
       "  <tbody>\n",
       "    <tr>\n",
       "      <th>1</th>\n",
       "      <td>-0.239036</td>\n",
       "      <td>0.304004</td>\n",
       "      <td>-0.786293</td>\n",
       "    </tr>\n",
       "    <tr>\n",
       "      <th>2</th>\n",
       "      <td>-0.074179</td>\n",
       "      <td>0.230121</td>\n",
       "      <td>-0.322346</td>\n",
       "    </tr>\n",
       "    <tr>\n",
       "      <th>3</th>\n",
       "      <td>0.038173</td>\n",
       "      <td>0.178031</td>\n",
       "      <td>0.214419</td>\n",
       "    </tr>\n",
       "    <tr>\n",
       "      <th>4</th>\n",
       "      <td>0.088818</td>\n",
       "      <td>0.166882</td>\n",
       "      <td>0.532222</td>\n",
       "    </tr>\n",
       "    <tr>\n",
       "      <th>5</th>\n",
       "      <td>0.130184</td>\n",
       "      <td>0.193612</td>\n",
       "      <td>0.672395</td>\n",
       "    </tr>\n",
       "    <tr>\n",
       "      <th>Benchmark</th>\n",
       "      <td>-0.011387</td>\n",
       "      <td>0.204122</td>\n",
       "      <td>-0.055786</td>\n",
       "    </tr>\n",
       "    <tr>\n",
       "      <th>Active</th>\n",
       "      <td>0.141571</td>\n",
       "      <td>0.065354</td>\n",
       "      <td>2.166236</td>\n",
       "    </tr>\n",
       "    <tr>\n",
       "      <th>Neutral</th>\n",
       "      <td>0.369220</td>\n",
       "      <td>0.180993</td>\n",
       "      <td>2.039968</td>\n",
       "    </tr>\n",
       "  </tbody>\n",
       "</table>\n",
       "</div>"
      ],
      "text/plain": [
       "           Mean Ret   Std Dev  RR Ratio\n",
       "1         -0.239036  0.304004 -0.786293\n",
       "2         -0.074179  0.230121 -0.322346\n",
       "3          0.038173  0.178031  0.214419\n",
       "4          0.088818  0.166882  0.532222\n",
       "5          0.130184  0.193612  0.672395\n",
       "Benchmark -0.011387  0.204122 -0.055786\n",
       "Active     0.141571  0.065354  2.166236\n",
       "Neutral    0.369220  0.180993  2.039968"
      ]
     },
     "execution_count": 27,
     "metadata": {},
     "output_type": "execute_result"
    }
   ],
   "source": [
    "performance_5"
   ]
  },
  {
   "cell_type": "markdown",
   "id": "5db07eaf-d1c3-4560-91e8-6030a11b9612",
   "metadata": {},
   "source": [
    "___\n",
    "### Important Coding Note\n",
    "Quantile analysis is one of hte tools that we will **need again, and again** in our subject. So the `quantile_analysis()` function has been stored in our `apmodule`. When yo uwill need to perform thi sanalysis in the coding exercises and hte assignment, you will not need to copy/paste the function, but you will simply **import the module** and use the function from there:"
   ]
  },
  {
   "cell_type": "code",
   "execution_count": 28,
   "id": "c0c680a8-83e3-4e2c-b054-d8b12374c59e",
   "metadata": {},
   "outputs": [],
   "source": [
    "import apmodule as ap\n",
    "ret_5, perf_5 = ap.quantile_analysis(signal['epq'], prices['price'], n_bins = 5)"
   ]
  },
  {
   "cell_type": "code",
   "execution_count": 29,
   "id": "0c67d465-e8d6-434b-b375-965148b15c50",
   "metadata": {},
   "outputs": [
    {
     "data": {
      "text/html": [
       "<div>\n",
       "<style scoped>\n",
       "    .dataframe tbody tr th:only-of-type {\n",
       "        vertical-align: middle;\n",
       "    }\n",
       "\n",
       "    .dataframe tbody tr th {\n",
       "        vertical-align: top;\n",
       "    }\n",
       "\n",
       "    .dataframe thead th {\n",
       "        text-align: right;\n",
       "    }\n",
       "</style>\n",
       "<table border=\"1\" class=\"dataframe\">\n",
       "  <thead>\n",
       "    <tr style=\"text-align: right;\">\n",
       "      <th></th>\n",
       "      <th>1</th>\n",
       "      <th>2</th>\n",
       "      <th>3</th>\n",
       "      <th>4</th>\n",
       "      <th>5</th>\n",
       "      <th>Benchmark</th>\n",
       "      <th>Active</th>\n",
       "      <th>Neutral</th>\n",
       "    </tr>\n",
       "    <tr>\n",
       "      <th>date</th>\n",
       "      <th></th>\n",
       "      <th></th>\n",
       "      <th></th>\n",
       "      <th></th>\n",
       "      <th></th>\n",
       "      <th></th>\n",
       "      <th></th>\n",
       "      <th></th>\n",
       "    </tr>\n",
       "  </thead>\n",
       "  <tbody>\n",
       "    <tr>\n",
       "      <th>1980-01-31</th>\n",
       "      <td>-0.020218</td>\n",
       "      <td>-0.028034</td>\n",
       "      <td>-0.033652</td>\n",
       "      <td>-0.047383</td>\n",
       "      <td>-0.032369</td>\n",
       "      <td>-0.032348</td>\n",
       "      <td>-0.000021</td>\n",
       "      <td>-0.012151</td>\n",
       "    </tr>\n",
       "    <tr>\n",
       "      <th>1980-02-29</th>\n",
       "      <td>-0.235372</td>\n",
       "      <td>-0.170278</td>\n",
       "      <td>-0.153054</td>\n",
       "      <td>-0.151388</td>\n",
       "      <td>-0.157213</td>\n",
       "      <td>-0.173489</td>\n",
       "      <td>0.016276</td>\n",
       "      <td>0.078160</td>\n",
       "    </tr>\n",
       "    <tr>\n",
       "      <th>1980-03-31</th>\n",
       "      <td>0.032646</td>\n",
       "      <td>0.052790</td>\n",
       "      <td>0.061774</td>\n",
       "      <td>0.054751</td>\n",
       "      <td>0.053595</td>\n",
       "      <td>0.051106</td>\n",
       "      <td>0.002488</td>\n",
       "      <td>0.020949</td>\n",
       "    </tr>\n",
       "    <tr>\n",
       "      <th>1980-04-30</th>\n",
       "      <td>0.058263</td>\n",
       "      <td>0.067841</td>\n",
       "      <td>0.068295</td>\n",
       "      <td>0.074945</td>\n",
       "      <td>0.081287</td>\n",
       "      <td>0.070126</td>\n",
       "      <td>0.011161</td>\n",
       "      <td>0.023024</td>\n",
       "    </tr>\n",
       "    <tr>\n",
       "      <th>1980-05-30</th>\n",
       "      <td>0.028218</td>\n",
       "      <td>0.031401</td>\n",
       "      <td>0.029925</td>\n",
       "      <td>0.033525</td>\n",
       "      <td>0.047477</td>\n",
       "      <td>0.034119</td>\n",
       "      <td>0.013358</td>\n",
       "      <td>0.019259</td>\n",
       "    </tr>\n",
       "  </tbody>\n",
       "</table>\n",
       "</div>"
      ],
      "text/plain": [
       "                   1         2         3         4         5  Benchmark  \\\n",
       "date                                                                      \n",
       "1980-01-31 -0.020218 -0.028034 -0.033652 -0.047383 -0.032369  -0.032348   \n",
       "1980-02-29 -0.235372 -0.170278 -0.153054 -0.151388 -0.157213  -0.173489   \n",
       "1980-03-31  0.032646  0.052790  0.061774  0.054751  0.053595   0.051106   \n",
       "1980-04-30  0.058263  0.067841  0.068295  0.074945  0.081287   0.070126   \n",
       "1980-05-30  0.028218  0.031401  0.029925  0.033525  0.047477   0.034119   \n",
       "\n",
       "              Active   Neutral  \n",
       "date                            \n",
       "1980-01-31 -0.000021 -0.012151  \n",
       "1980-02-29  0.016276  0.078160  \n",
       "1980-03-31  0.002488  0.020949  \n",
       "1980-04-30  0.011161  0.023024  \n",
       "1980-05-30  0.013358  0.019259  "
      ]
     },
     "execution_count": 29,
     "metadata": {},
     "output_type": "execute_result"
    }
   ],
   "source": [
    "ret_5.head()"
   ]
  },
  {
   "cell_type": "markdown",
   "id": "53f986ab-f53e-4912-9b42-c37f6327f861",
   "metadata": {},
   "source": [
    "Please notice that the `diagnostics()` function in the `apmodule` is sligntlhy more advanced than the one written in this notebook. Beside showing the results **transposed** with the different portfolios in each column and different measures in each row, it also provides few **non-parametric measures of risk**. These will be introduced next week, but most of them are quite intuitive. The only one that you may not be familiar with is the [Maximum Drawdown](https://www.investopedia.com/terms/m/maximum-drawdown-mdd.asp). "
   ]
  },
  {
   "cell_type": "code",
   "execution_count": 30,
   "id": "c9f7d2bc-68ac-43cd-94bf-15534a973311",
   "metadata": {},
   "outputs": [
    {
     "data": {
      "text/html": [
       "<div>\n",
       "<style scoped>\n",
       "    .dataframe tbody tr th:only-of-type {\n",
       "        vertical-align: middle;\n",
       "    }\n",
       "\n",
       "    .dataframe tbody tr th {\n",
       "        vertical-align: top;\n",
       "    }\n",
       "\n",
       "    .dataframe thead th {\n",
       "        text-align: right;\n",
       "    }\n",
       "</style>\n",
       "<table border=\"1\" class=\"dataframe\">\n",
       "  <thead>\n",
       "    <tr style=\"text-align: right;\">\n",
       "      <th></th>\n",
       "      <th>1</th>\n",
       "      <th>2</th>\n",
       "      <th>3</th>\n",
       "      <th>4</th>\n",
       "      <th>5</th>\n",
       "      <th>Benchmark</th>\n",
       "      <th>Active</th>\n",
       "      <th>Neutral</th>\n",
       "    </tr>\n",
       "  </thead>\n",
       "  <tbody>\n",
       "    <tr>\n",
       "      <th>Mean Return</th>\n",
       "      <td>-0.239036</td>\n",
       "      <td>-0.074179</td>\n",
       "      <td>0.038173</td>\n",
       "      <td>0.088818</td>\n",
       "      <td>0.130184</td>\n",
       "      <td>-0.011387</td>\n",
       "      <td>0.141571</td>\n",
       "      <td>0.369220</td>\n",
       "    </tr>\n",
       "    <tr>\n",
       "      <th>St. Dev.</th>\n",
       "      <td>0.304004</td>\n",
       "      <td>0.230121</td>\n",
       "      <td>0.178031</td>\n",
       "      <td>0.166882</td>\n",
       "      <td>0.193612</td>\n",
       "      <td>0.204122</td>\n",
       "      <td>0.065354</td>\n",
       "      <td>0.180993</td>\n",
       "    </tr>\n",
       "    <tr>\n",
       "      <th>RR Ratio</th>\n",
       "      <td>-0.786293</td>\n",
       "      <td>-0.322346</td>\n",
       "      <td>0.214419</td>\n",
       "      <td>0.532222</td>\n",
       "      <td>0.672395</td>\n",
       "      <td>-0.055786</td>\n",
       "      <td>2.166236</td>\n",
       "      <td>2.039968</td>\n",
       "    </tr>\n",
       "    <tr>\n",
       "      <th>% Positive</th>\n",
       "      <td>0.403579</td>\n",
       "      <td>0.504970</td>\n",
       "      <td>0.594433</td>\n",
       "      <td>0.632207</td>\n",
       "      <td>0.648111</td>\n",
       "      <td>0.538767</td>\n",
       "      <td>0.815109</td>\n",
       "      <td>0.805169</td>\n",
       "    </tr>\n",
       "    <tr>\n",
       "      <th>Worst Month</th>\n",
       "      <td>-0.406640</td>\n",
       "      <td>-0.386014</td>\n",
       "      <td>-0.348954</td>\n",
       "      <td>-0.330931</td>\n",
       "      <td>-0.358693</td>\n",
       "      <td>-0.360247</td>\n",
       "      <td>-0.086497</td>\n",
       "      <td>-0.257324</td>\n",
       "    </tr>\n",
       "    <tr>\n",
       "      <th>Best Month</th>\n",
       "      <td>0.412995</td>\n",
       "      <td>0.189487</td>\n",
       "      <td>0.145722</td>\n",
       "      <td>0.125328</td>\n",
       "      <td>0.171075</td>\n",
       "      <td>0.173013</td>\n",
       "      <td>0.115030</td>\n",
       "      <td>0.315980</td>\n",
       "    </tr>\n",
       "    <tr>\n",
       "      <th>Max DrawDown</th>\n",
       "      <td>-1.522856</td>\n",
       "      <td>-1.056118</td>\n",
       "      <td>-0.710303</td>\n",
       "      <td>-0.706917</td>\n",
       "      <td>-0.906321</td>\n",
       "      <td>-0.926359</td>\n",
       "      <td>-0.216863</td>\n",
       "      <td>-0.490987</td>\n",
       "    </tr>\n",
       "  </tbody>\n",
       "</table>\n",
       "</div>"
      ],
      "text/plain": [
       "                     1         2         3         4         5  Benchmark  \\\n",
       "Mean Return  -0.239036 -0.074179  0.038173  0.088818  0.130184  -0.011387   \n",
       "St. Dev.      0.304004  0.230121  0.178031  0.166882  0.193612   0.204122   \n",
       "RR Ratio     -0.786293 -0.322346  0.214419  0.532222  0.672395  -0.055786   \n",
       "% Positive    0.403579  0.504970  0.594433  0.632207  0.648111   0.538767   \n",
       "Worst Month  -0.406640 -0.386014 -0.348954 -0.330931 -0.358693  -0.360247   \n",
       "Best Month    0.412995  0.189487  0.145722  0.125328  0.171075   0.173013   \n",
       "Max DrawDown -1.522856 -1.056118 -0.710303 -0.706917 -0.906321  -0.926359   \n",
       "\n",
       "                Active   Neutral  \n",
       "Mean Return   0.141571  0.369220  \n",
       "St. Dev.      0.065354  0.180993  \n",
       "RR Ratio      2.166236  2.039968  \n",
       "% Positive    0.815109  0.805169  \n",
       "Worst Month  -0.086497 -0.257324  \n",
       "Best Month    0.115030  0.315980  \n",
       "Max DrawDown -0.216863 -0.490987  "
      ]
     },
     "execution_count": 30,
     "metadata": {},
     "output_type": "execute_result"
    }
   ],
   "source": [
    "perf_5"
   ]
  },
  {
   "cell_type": "markdown",
   "id": "signal-catch",
   "metadata": {},
   "source": [
    "___\n",
    "### Exercise 8.01\n",
    "Let's now assess the quality of another commonly used investment strategy: low-volatility. In this case want to invest in low-risk (low beta) stocks. \n",
    "\n",
    "**STEP 1:** Load the data in `Betas.zip` into a DataFrame called `new_signal`. Show the first few lines."
   ]
  },
  {
   "cell_type": "code",
   "execution_count": 31,
   "id": "novel-garlic",
   "metadata": {},
   "outputs": [
    {
     "data": {
      "text/html": [
       "<div>\n",
       "<style scoped>\n",
       "    .dataframe tbody tr th:only-of-type {\n",
       "        vertical-align: middle;\n",
       "    }\n",
       "\n",
       "    .dataframe tbody tr th {\n",
       "        vertical-align: top;\n",
       "    }\n",
       "\n",
       "    .dataframe thead th {\n",
       "        text-align: right;\n",
       "    }\n",
       "</style>\n",
       "<table border=\"1\" class=\"dataframe\">\n",
       "  <thead>\n",
       "    <tr style=\"text-align: right;\">\n",
       "      <th></th>\n",
       "      <th></th>\n",
       "      <th>beta</th>\n",
       "    </tr>\n",
       "    <tr>\n",
       "      <th>id</th>\n",
       "      <th>date</th>\n",
       "      <th></th>\n",
       "    </tr>\n",
       "  </thead>\n",
       "  <tbody>\n",
       "    <tr>\n",
       "      <th rowspan=\"5\" valign=\"top\">10001</th>\n",
       "      <th>1996-07-31</th>\n",
       "      <td>0.003659</td>\n",
       "    </tr>\n",
       "    <tr>\n",
       "      <th>1996-08-30</th>\n",
       "      <td>0.005802</td>\n",
       "    </tr>\n",
       "    <tr>\n",
       "      <th>1996-09-30</th>\n",
       "      <td>0.010779</td>\n",
       "    </tr>\n",
       "    <tr>\n",
       "      <th>1996-10-31</th>\n",
       "      <td>0.010635</td>\n",
       "    </tr>\n",
       "    <tr>\n",
       "      <th>1996-11-29</th>\n",
       "      <td>0.014119</td>\n",
       "    </tr>\n",
       "  </tbody>\n",
       "</table>\n",
       "</div>"
      ],
      "text/plain": [
       "                      beta\n",
       "id    date                \n",
       "10001 1996-07-31  0.003659\n",
       "      1996-08-30  0.005802\n",
       "      1996-09-30  0.010779\n",
       "      1996-10-31  0.010635\n",
       "      1996-11-29  0.014119"
      ]
     },
     "execution_count": 31,
     "metadata": {},
     "output_type": "execute_result"
    }
   ],
   "source": [
    "new_signal = pd.read_csv('Betas.zip', parse_dates=['date']).set_index(['id', 'date'])\n",
    "new_signal.head()"
   ]
  },
  {
   "cell_type": "markdown",
   "id": "assigned-anchor",
   "metadata": {},
   "source": [
    "Normally we want all our information signals expressed **in the same direction**: conventionally the higher the signal the better the stock. This is not the case with this signal where lower betas are better (the strategy is called _low volatility!_). \n",
    "\n",
    "**STEP 2:** To fix this, replace the column `beta` in the DataFrame with minus beta, its negative. In this way the higher the signal the better the stock."
   ]
  },
  {
   "cell_type": "code",
   "execution_count": 32,
   "id": "finite-doctrine",
   "metadata": {},
   "outputs": [
    {
     "data": {
      "text/html": [
       "<div>\n",
       "<style scoped>\n",
       "    .dataframe tbody tr th:only-of-type {\n",
       "        vertical-align: middle;\n",
       "    }\n",
       "\n",
       "    .dataframe tbody tr th {\n",
       "        vertical-align: top;\n",
       "    }\n",
       "\n",
       "    .dataframe thead th {\n",
       "        text-align: right;\n",
       "    }\n",
       "</style>\n",
       "<table border=\"1\" class=\"dataframe\">\n",
       "  <thead>\n",
       "    <tr style=\"text-align: right;\">\n",
       "      <th></th>\n",
       "      <th></th>\n",
       "      <th>beta</th>\n",
       "    </tr>\n",
       "    <tr>\n",
       "      <th>id</th>\n",
       "      <th>date</th>\n",
       "      <th></th>\n",
       "    </tr>\n",
       "  </thead>\n",
       "  <tbody>\n",
       "    <tr>\n",
       "      <th rowspan=\"5\" valign=\"top\">10001</th>\n",
       "      <th>1996-07-31</th>\n",
       "      <td>-0.003659</td>\n",
       "    </tr>\n",
       "    <tr>\n",
       "      <th>1996-08-30</th>\n",
       "      <td>-0.005802</td>\n",
       "    </tr>\n",
       "    <tr>\n",
       "      <th>1996-09-30</th>\n",
       "      <td>-0.010779</td>\n",
       "    </tr>\n",
       "    <tr>\n",
       "      <th>1996-10-31</th>\n",
       "      <td>-0.010635</td>\n",
       "    </tr>\n",
       "    <tr>\n",
       "      <th>1996-11-29</th>\n",
       "      <td>-0.014119</td>\n",
       "    </tr>\n",
       "  </tbody>\n",
       "</table>\n",
       "</div>"
      ],
      "text/plain": [
       "                      beta\n",
       "id    date                \n",
       "10001 1996-07-31 -0.003659\n",
       "      1996-08-30 -0.005802\n",
       "      1996-09-30 -0.010779\n",
       "      1996-10-31 -0.010635\n",
       "      1996-11-29 -0.014119"
      ]
     },
     "execution_count": 32,
     "metadata": {},
     "output_type": "execute_result"
    }
   ],
   "source": [
    "new_signal['beta'] = new_signal['beta']*-1\n",
    "new_signal.head()"
   ]
  },
  {
   "cell_type": "markdown",
   "id": "damaged-things",
   "metadata": {},
   "source": [
    "**STEP 3:** Use the functions created above to **calculate the performance** (mean return. voaltility, etc.) of **4 quantile portfolios** formed on the historical betas."
   ]
  },
  {
   "cell_type": "code",
   "execution_count": 33,
   "id": "formed-google",
   "metadata": {},
   "outputs": [
    {
     "data": {
      "text/html": [
       "<div>\n",
       "<style scoped>\n",
       "    .dataframe tbody tr th:only-of-type {\n",
       "        vertical-align: middle;\n",
       "    }\n",
       "\n",
       "    .dataframe tbody tr th {\n",
       "        vertical-align: top;\n",
       "    }\n",
       "\n",
       "    .dataframe thead th {\n",
       "        text-align: right;\n",
       "    }\n",
       "</style>\n",
       "<table border=\"1\" class=\"dataframe\">\n",
       "  <thead>\n",
       "    <tr style=\"text-align: right;\">\n",
       "      <th></th>\n",
       "      <th>1</th>\n",
       "      <th>2</th>\n",
       "      <th>3</th>\n",
       "      <th>4</th>\n",
       "      <th>Benchmark</th>\n",
       "      <th>Active</th>\n",
       "      <th>Neutral</th>\n",
       "    </tr>\n",
       "  </thead>\n",
       "  <tbody>\n",
       "    <tr>\n",
       "      <th>Mean Return</th>\n",
       "      <td>-0.011966</td>\n",
       "      <td>0.038244</td>\n",
       "      <td>0.062044</td>\n",
       "      <td>0.075559</td>\n",
       "      <td>0.040956</td>\n",
       "      <td>0.034603</td>\n",
       "      <td>0.087526</td>\n",
       "    </tr>\n",
       "    <tr>\n",
       "      <th>St. Dev.</th>\n",
       "      <td>0.248033</td>\n",
       "      <td>0.201873</td>\n",
       "      <td>0.166764</td>\n",
       "      <td>0.121773</td>\n",
       "      <td>0.180093</td>\n",
       "      <td>0.076537</td>\n",
       "      <td>0.156713</td>\n",
       "    </tr>\n",
       "    <tr>\n",
       "      <th>RR Ratio</th>\n",
       "      <td>-0.048246</td>\n",
       "      <td>0.189447</td>\n",
       "      <td>0.372048</td>\n",
       "      <td>0.620490</td>\n",
       "      <td>0.227414</td>\n",
       "      <td>0.452113</td>\n",
       "      <td>0.558510</td>\n",
       "    </tr>\n",
       "    <tr>\n",
       "      <th>% Positive</th>\n",
       "      <td>0.538767</td>\n",
       "      <td>0.574553</td>\n",
       "      <td>0.596421</td>\n",
       "      <td>0.669980</td>\n",
       "      <td>0.584493</td>\n",
       "      <td>0.522863</td>\n",
       "      <td>0.566600</td>\n",
       "    </tr>\n",
       "    <tr>\n",
       "      <th>Worst Month</th>\n",
       "      <td>-0.396627</td>\n",
       "      <td>-0.364628</td>\n",
       "      <td>-0.309627</td>\n",
       "      <td>-0.206494</td>\n",
       "      <td>-0.319344</td>\n",
       "      <td>-0.091026</td>\n",
       "      <td>-0.186775</td>\n",
       "    </tr>\n",
       "    <tr>\n",
       "      <th>Best Month</th>\n",
       "      <td>0.226288</td>\n",
       "      <td>0.226764</td>\n",
       "      <td>0.166821</td>\n",
       "      <td>0.095662</td>\n",
       "      <td>0.174377</td>\n",
       "      <td>0.112850</td>\n",
       "      <td>0.190133</td>\n",
       "    </tr>\n",
       "    <tr>\n",
       "      <th>Max DrawDown</th>\n",
       "      <td>-1.015061</td>\n",
       "      <td>-1.006418</td>\n",
       "      <td>-0.854689</td>\n",
       "      <td>-0.670545</td>\n",
       "      <td>-0.886681</td>\n",
       "      <td>-0.297621</td>\n",
       "      <td>-0.595088</td>\n",
       "    </tr>\n",
       "  </tbody>\n",
       "</table>\n",
       "</div>"
      ],
      "text/plain": [
       "                     1         2         3         4  Benchmark    Active  \\\n",
       "Mean Return  -0.011966  0.038244  0.062044  0.075559   0.040956  0.034603   \n",
       "St. Dev.      0.248033  0.201873  0.166764  0.121773   0.180093  0.076537   \n",
       "RR Ratio     -0.048246  0.189447  0.372048  0.620490   0.227414  0.452113   \n",
       "% Positive    0.538767  0.574553  0.596421  0.669980   0.584493  0.522863   \n",
       "Worst Month  -0.396627 -0.364628 -0.309627 -0.206494  -0.319344 -0.091026   \n",
       "Best Month    0.226288  0.226764  0.166821  0.095662   0.174377  0.112850   \n",
       "Max DrawDown -1.015061 -1.006418 -0.854689 -0.670545  -0.886681 -0.297621   \n",
       "\n",
       "               Neutral  \n",
       "Mean Return   0.087526  \n",
       "St. Dev.      0.156713  \n",
       "RR Ratio      0.558510  \n",
       "% Positive    0.566600  \n",
       "Worst Month  -0.186775  \n",
       "Best Month    0.190133  \n",
       "Max DrawDown -0.595088  "
      ]
     },
     "execution_count": 33,
     "metadata": {},
     "output_type": "execute_result"
    }
   ],
   "source": [
    "return_vol, performance_vol = ap.quantile_analysis(new_signal['beta'], prices['price'], n_bins = 4)\n",
    "performance_vol"
   ]
  },
  {
   "cell_type": "markdown",
   "id": "requested-table",
   "metadata": {},
   "source": [
    "**STEP 4:** Plot the value of the four quantile portfolios together with the benchmark."
   ]
  },
  {
   "cell_type": "code",
   "execution_count": 34,
   "id": "major-browser",
   "metadata": {},
   "outputs": [
    {
     "data": {
      "text/plain": [
       "<AxesSubplot:title={'center':'Quantile Portfolio Values - Low Vol Strategy'}, xlabel='Time', ylabel='Portfolio Value (Log-Scale)'>"
      ]
     },
     "execution_count": 34,
     "metadata": {},
     "output_type": "execute_result"
    },
    {
     "data": {
      "image/png": "[encoded data removed]",
      "text/plain": [
       "<Figure size 720x432 with 1 Axes>"
      ]
     },
     "metadata": {
      "needs_background": "light"
     },
     "output_type": "display_data"
    }
   ],
   "source": [
    "port_vol = return_vol.cumsum().apply(np.exp)\n",
    "\n",
    "port_vol[[1, 2, 3, 4, 'Benchmark']].plot(figsize=(10,6),\n",
    "                                         title='Quantile Portfolio Values - Low Vol Strategy',\n",
    "                                         xlabel='Time',\n",
    "                                         ylabel='Portfolio Value (Log-Scale)',\n",
    "                                         logy=True) #the last argument specifies log-scale for the Y axis"
   ]
  },
  {
   "cell_type": "markdown",
   "id": "formal-prague",
   "metadata": {},
   "source": [
    "**STEP 5:** To visually compare the dynamics of the low-vol strategy compared to the value strategy analyzed in the notebook:\n",
    "1. Calculate the average annual return of the `Active` portfolio of the low-vol strategy\n",
    "1. Join it in the same DataFrame together with `mean_active` where we have the mean annual return of the value strategy (You may have to change the name of at least one of the series because they have the same name `Active`).\n",
    "1. Plot an Histogram with the two series.\n",
    "\n",
    "From the diagnostics we know that the low-vol strategy does not perform as well as the value strategy, but **does it help to alleviate the atrocious performance** of value in the dot-com bubble (1999) and the GFC (2008)?"
   ]
  },
  {
   "cell_type": "code",
   "execution_count": 35,
   "id": "occupied-physics",
   "metadata": {},
   "outputs": [],
   "source": [
    "return_vol['year'] = return_vol.index.year\n",
    "mean_vol = return_vol.groupby('year')['Active'].mean()*12"
   ]
  },
  {
   "cell_type": "code",
   "execution_count": 36,
   "id": "still-petersburg",
   "metadata": {},
   "outputs": [
    {
     "data": {
      "text/html": [
       "<div>\n",
       "<style scoped>\n",
       "    .dataframe tbody tr th:only-of-type {\n",
       "        vertical-align: middle;\n",
       "    }\n",
       "\n",
       "    .dataframe tbody tr th {\n",
       "        vertical-align: top;\n",
       "    }\n",
       "\n",
       "    .dataframe thead th {\n",
       "        text-align: right;\n",
       "    }\n",
       "</style>\n",
       "<table border=\"1\" class=\"dataframe\">\n",
       "  <thead>\n",
       "    <tr style=\"text-align: right;\">\n",
       "      <th></th>\n",
       "      <th>Value</th>\n",
       "      <th>Low Vol</th>\n",
       "    </tr>\n",
       "    <tr>\n",
       "      <th>year</th>\n",
       "      <th></th>\n",
       "      <th></th>\n",
       "    </tr>\n",
       "  </thead>\n",
       "  <tbody>\n",
       "    <tr>\n",
       "      <th>1980</th>\n",
       "      <td>0.077589</td>\n",
       "      <td>0.002273</td>\n",
       "    </tr>\n",
       "    <tr>\n",
       "      <th>1981</th>\n",
       "      <td>0.189513</td>\n",
       "      <td>0.095367</td>\n",
       "    </tr>\n",
       "    <tr>\n",
       "      <th>1982</th>\n",
       "      <td>0.059212</td>\n",
       "      <td>0.008945</td>\n",
       "    </tr>\n",
       "    <tr>\n",
       "      <th>1983</th>\n",
       "      <td>0.155369</td>\n",
       "      <td>0.013254</td>\n",
       "    </tr>\n",
       "    <tr>\n",
       "      <th>1984</th>\n",
       "      <td>0.208344</td>\n",
       "      <td>0.087521</td>\n",
       "    </tr>\n",
       "  </tbody>\n",
       "</table>\n",
       "</div>"
      ],
      "text/plain": [
       "         Value   Low Vol\n",
       "year                    \n",
       "1980  0.077589  0.002273\n",
       "1981  0.189513  0.095367\n",
       "1982  0.059212  0.008945\n",
       "1983  0.155369  0.013254\n",
       "1984  0.208344  0.087521"
      ]
     },
     "execution_count": 36,
     "metadata": {},
     "output_type": "execute_result"
    }
   ],
   "source": [
    "mean_annual = mean_active.rename('Value').to_frame().join(mean_vol.rename('Low Vol'))\n",
    "mean_annual.head()"
   ]
  },
  {
   "cell_type": "code",
   "execution_count": 37,
   "id": "static-metallic",
   "metadata": {},
   "outputs": [
    {
     "data": {
      "text/plain": [
       "<AxesSubplot:title={'center':'Active Return (Top - Bottom)'}, xlabel='Year', ylabel='Annualized Mean Monthly Return'>"
      ]
     },
     "execution_count": 37,
     "metadata": {},
     "output_type": "execute_result"
    },
    {
     "data": {
      "image/png": "[encoded data removed]",
      "text/plain": [
       "<Figure size 720x432 with 1 Axes>"
      ]
     },
     "metadata": {
      "needs_background": "light"
     },
     "output_type": "display_data"
    }
   ],
   "source": [
    "mean_annual.plot(figsize=(10,6),\n",
    "                 kind='bar',\n",
    "                 title='Active Return (Top - Bottom)',\n",
    "                 xlabel='Year',\n",
    "                 ylabel='Annualized Mean Monthly Return')"
   ]
  }
 ],
 "metadata": {
  "kernelspec": {
   "display_name": "Python 3 (ipykernel)",
   "language": "python",
   "name": "python3"
  },
  "language_info": {
   "codemirror_mode": {
    "name": "ipython",
    "version": 3
   },
   "file_extension": ".py",
   "mimetype": "text/x-python",
   "name": "python",
   "nbconvert_exporter": "python",
   "pygments_lexer": "ipython3",
   "version": "3.9.12"
  }
 },
 "nbformat": 4,
 "nbformat_minor": 5
}
