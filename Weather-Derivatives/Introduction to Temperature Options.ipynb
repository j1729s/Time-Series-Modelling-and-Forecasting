{
 "cells": [
  {
   "cell_type": "markdown",
   "id": "3a977360-75d0-4298-bd80-5457eefe31b3",
   "metadata": {},
   "source": [
    "# Introduction to Temperature Options"
   ]
  },
  {
   "cell_type": "markdown",
   "id": "ac02f9bf-4a90-45e4-b1c9-424d6674b1ae",
   "metadata": {},
   "source": [
    "It is estimated that nearly 30 percent of the US economy is directly affected by the weather [1,3].\n",
    "\n",
    "Weather derivatives are financial instruments that can be used to reduce risk associated with adverse weather conditions:\n",
    "- Temperature\n",
    "- Rain\n",
    "- Snow\n",
    "- Frost\n",
    "\n",
    "The first weather derivative was traded Over-the-counter OTC in July 1996 when Aquila Energy structured a dual-commodity hedge for Consolidated Edison Co.\n",
    "They have continued to trade OTC since 1997 and as the market grew, the Chicago Mercangile Exchange CME introducted exchange traded weather futures and options from 22-Sep 1999."
   ]
  },
  {
   "cell_type": "markdown",
   "id": "a74e46eb-3833-4373-926a-d87ecfee6a1f",
   "metadata": {},
   "source": [
    "![trade](volume_trade.png)"
   ]
  },
  {
   "cell_type": "markdown",
   "id": "ae251e7d-acd4-44b2-a1e9-671e29c28cec",
   "metadata": {},
   "source": [
    "## Terminology of Degree Days"
   ]
  },
  {
   "cell_type": "markdown",
   "id": "984e70c8-2b35-4cf1-9a65-68b7c4e504d1",
   "metadata": {},
   "source": [
    "Temperature data is readily available, free of charge for many meteorological stations across the world. The information is given in the form of a high and low every day.\n",
    "\n",
    "- High – max temperature of the day: $T_{n}^{max}$\n",
    "- Min – min temperature of the day: $T_{n}^{min}$\n",
    "- Avg – avg temperature of the day: $T_{n}$\n",
    "$$T_{n}=\\frac{T_{n}^{max}+T_{n}^{min}}{2}$$\n",
    "\n"
   ]
  },
  {
   "cell_type": "markdown",
   "id": "e45c55d7-024c-40e8-b2d1-1e0761886641",
   "metadata": {},
   "source": [
    "Although this definition is not exactly the intuitive notation of what average temperatures are for a given day, this is the standard definition that is used for definind heating degree days (HDD) and cooling degree days (CDD)."
   ]
  },
  {
   "cell_type": "markdown",
   "id": "100db56b-3457-424c-bba1-fb3d43a3a0b1",
   "metadata": {},
   "source": [
    "On each day (period) $n \\in \\mathbb{N}$:\n",
    "- the heating degree days is defined as $HDD_{n}=(65−T_{n})^{+}$\n",
    "- the cooling degree days is defined as $CDD_{n}=(T_{n}–65)^{+}$\n"
   ]
  },
  {
   "cell_type": "code",
   "execution_count": 1,
   "id": "249d32b2-5c37-48ac-829e-2bc946a7707e",
   "metadata": {},
   "outputs": [
    {
     "data": {
      "text/html": [
       "<div>\n",
       "<style scoped>\n",
       "    .dataframe tbody tr th:only-of-type {\n",
       "        vertical-align: middle;\n",
       "    }\n",
       "\n",
       "    .dataframe tbody tr th {\n",
       "        vertical-align: top;\n",
       "    }\n",
       "\n",
       "    .dataframe thead th {\n",
       "        text-align: right;\n",
       "    }\n",
       "</style>\n",
       "<table border=\"1\" class=\"dataframe\">\n",
       "  <thead>\n",
       "    <tr style=\"text-align: right;\">\n",
       "      <th></th>\n",
       "      <th>Avg Temp</th>\n",
       "      <th>HDD</th>\n",
       "      <th>CDD</th>\n",
       "    </tr>\n",
       "  </thead>\n",
       "  <tbody>\n",
       "    <tr>\n",
       "      <th>1</th>\n",
       "      <td>77.90</td>\n",
       "      <td>0.00</td>\n",
       "      <td>12.90</td>\n",
       "    </tr>\n",
       "    <tr>\n",
       "      <th>2</th>\n",
       "      <td>70.80</td>\n",
       "      <td>0.00</td>\n",
       "      <td>5.80</td>\n",
       "    </tr>\n",
       "    <tr>\n",
       "      <th>3</th>\n",
       "      <td>69.25</td>\n",
       "      <td>0.00</td>\n",
       "      <td>4.25</td>\n",
       "    </tr>\n",
       "    <tr>\n",
       "      <th>4</th>\n",
       "      <td>65.30</td>\n",
       "      <td>0.00</td>\n",
       "      <td>0.30</td>\n",
       "    </tr>\n",
       "    <tr>\n",
       "      <th>5</th>\n",
       "      <td>66.36</td>\n",
       "      <td>0.00</td>\n",
       "      <td>1.36</td>\n",
       "    </tr>\n",
       "    <tr>\n",
       "      <th>...</th>\n",
       "      <td>...</td>\n",
       "      <td>...</td>\n",
       "      <td>...</td>\n",
       "    </tr>\n",
       "    <tr>\n",
       "      <th>89</th>\n",
       "      <td>65.71</td>\n",
       "      <td>0.00</td>\n",
       "      <td>0.71</td>\n",
       "    </tr>\n",
       "    <tr>\n",
       "      <th>90</th>\n",
       "      <td>73.74</td>\n",
       "      <td>0.00</td>\n",
       "      <td>8.74</td>\n",
       "    </tr>\n",
       "    <tr>\n",
       "      <th>91</th>\n",
       "      <td>70.24</td>\n",
       "      <td>0.00</td>\n",
       "      <td>5.24</td>\n",
       "    </tr>\n",
       "    <tr>\n",
       "      <th>92</th>\n",
       "      <td>64.76</td>\n",
       "      <td>0.24</td>\n",
       "      <td>0.00</td>\n",
       "    </tr>\n",
       "    <tr>\n",
       "      <th>Total</th>\n",
       "      <td>NaN</td>\n",
       "      <td>148.35</td>\n",
       "      <td>191.18</td>\n",
       "    </tr>\n",
       "  </tbody>\n",
       "</table>\n",
       "<p>93 rows × 3 columns</p>\n",
       "</div>"
      ],
      "text/plain": [
       "       Avg Temp     HDD     CDD\n",
       "1         77.90    0.00   12.90\n",
       "2         70.80    0.00    5.80\n",
       "3         69.25    0.00    4.25\n",
       "4         65.30    0.00    0.30\n",
       "5         66.36    0.00    1.36\n",
       "...         ...     ...     ...\n",
       "89        65.71    0.00    0.71\n",
       "90        73.74    0.00    8.74\n",
       "91        70.24    0.00    5.24\n",
       "92        64.76    0.24    0.00\n",
       "Total       NaN  148.35  191.18\n",
       "\n",
       "[93 rows x 3 columns]"
      ]
     },
     "execution_count": 1,
     "metadata": {},
     "output_type": "execute_result"
    }
   ],
   "source": [
    "import numpy as np\n",
    "import pandas as pd\n",
    "import matplotlib.pyplot as plt\n",
    "temps = np.random.normal(65,5,92)\n",
    "HDD_p = np.maximum(0, 65-temps)\n",
    "CDD_p = np.maximum(0, temps-65)\n",
    "df = pd.DataFrame(np.array([temps, HDD_p, CDD_p]).T, index=range(1,len(temps)+1), columns=['Avg Temp', 'HDD', 'CDD'])\n",
    "df.loc['Total'] = pd.Series(df[['HDD', 'CDD']].sum())\n",
    "round(df,2)"
   ]
  },
  {
   "cell_type": "markdown",
   "id": "d3a4e624-8bc7-4338-8e73-2e0b842f9835",
   "metadata": {},
   "source": [
    "## Traded Products"
   ]
  },
  {
   "cell_type": "markdown",
   "id": "f12de6ff-a677-4966-8c83-92fc4be682aa",
   "metadata": {},
   "source": [
    "Futures contracts on monthly cumulative degree days have been introduced by the [CME](https://www.cmegroup.com/trading/weather/)."
   ]
  },
  {
   "cell_type": "markdown",
   "id": "d5b63ab7-4cfc-482f-aefc-54e96fb19b37",
   "metadata": {},
   "source": [
    "But traded volumes are [small](https://www.cmegroup.com/daily_bulletin/current/Section24_Weather_Futures_And_Options.pdf)."
   ]
  },
  {
   "cell_type": "markdown",
   "id": "d6a2d555-1352-4a15-9ea1-1da707d03af7",
   "metadata": {},
   "source": [
    "![volume](monthly_volume.jpg)"
   ]
  },
  {
   "cell_type": "markdown",
   "id": "4b3d63da-a62a-443b-a49b-dfac82f2e518",
   "metadata": {},
   "source": [
    "So we will be considering contracts that trade in the OTC market. We standardise our notation to refer to other reference temperatures instead of only 65 degrees fahrenheit."
   ]
  },
  {
   "cell_type": "markdown",
   "id": "6d2de08c-3373-40d0-b234-5b0c267e5dbb",
   "metadata": {},
   "source": [
    "For a day $n \\in \\mathbb{N}$:"
   ]
  },
  {
   "cell_type": "markdown",
   "id": "ef23329d-1730-4c13-8705-cb6e1f05f2f8",
   "metadata": {},
   "source": [
    "- $HDD_{n}=(T_{ref}-T_{n})^{+}$\n",
    "- $CDD_{n}=(T_{n}-T_{ref})^{+}$"
   ]
  },
  {
   "cell_type": "markdown",
   "id": "fe010a3b-fdc0-4e73-8323-f740a995f621",
   "metadata": {},
   "source": [
    "Here the buyer of an option with receive an amount:"
   ]
  },
  {
   "cell_type": "markdown",
   "id": "f211f462-1c1f-4a61-9f55-c267426c031c",
   "metadata": {},
   "source": [
    "$ξ=f(DD)$"
   ]
  },
  {
   "cell_type": "markdown",
   "id": "4fe03716-1dd2-4bc0-ba73-937e0cec5cfa",
   "metadata": {},
   "source": [
    "payoff function $f$ is computed on the cumulative index over a period $P$:"
   ]
  },
  {
   "cell_type": "markdown",
   "id": "1af9dff3-5913-45ca-a2b1-85a38916844d",
   "metadata": {},
   "source": [
    "- heating degree seasons $DD=H_{n}=HDD^{N}=\\sum^{N}_{n}HDD_{n}$\n",
    "- cooling degree seasons $DD=C_{n}=CDD^{N}=\\sum^{N}_{n}CDD_{n}$"
   ]
  },
  {
   "cell_type": "markdown",
   "id": "5ea84308-4507-448b-a882-eb23837b42e8",
   "metadata": {},
   "source": [
    "#### Typical Seasons OTC"
   ]
  },
  {
   "cell_type": "markdown",
   "id": "2c4cd167-79f6-497e-b874-acd4d39dd8ea",
   "metadata": {},
   "source": [
    "- CDD season: 15-May to 15-Sep\n",
    "- HDD season: 15-Dec(Nov) to 15-Mar"
   ]
  },
  {
   "cell_type": "markdown",
   "id": "b340f3f6-5ceb-430a-8470-748a3bce2540",
   "metadata": {},
   "source": [
    "We go on to set a few constants similar to the industry standards."
   ]
  },
  {
   "cell_type": "code",
   "execution_count": 2,
   "id": "d133c070-e246-4682-8914-2c4de20919b8",
   "metadata": {},
   "outputs": [],
   "source": [
    "alpha = 5000\n",
    "beta = 5000\n",
    "Kc = 750\n",
    "Kp = 550\n",
    "C = 5e5\n",
    "F = 1e6\n",
    "DD = np.arange(200,1000,10)\n",
    "call = np.minimum(alpha*np.maximum(DD-Kc,0), C)\n",
    "put = np.minimum(alpha*np.maximum(Kp-DD,0), F)\n",
    "collar = call - put"
   ]
  },
  {
   "cell_type": "markdown",
   "id": "096a5b2f-b4cd-4cf3-aea0-04eba77d35f3",
   "metadata": {
    "tags": []
   },
   "source": [
    "## Popular Payoff Functions [4]"
   ]
  },
  {
   "cell_type": "markdown",
   "id": "91112757-f01c-42f9-9c60-b5b5dd479907",
   "metadata": {},
   "source": [
    "#### Call with Cap"
   ]
  },
  {
   "cell_type": "markdown",
   "id": "1e05d637-32cd-4e6a-b60d-a451e88202d3",
   "metadata": {},
   "source": [
    "$$ξ=min\\{α(DD–K)^{+},C\\}$$"
   ]
  },
  {
   "cell_type": "markdown",
   "id": "7f390bd4-8c93-457b-9470-31a86b979328",
   "metadata": {},
   "source": [
    "where:\n",
    "- payoff rates $α$ is commonly US\\\\$2,500 or US\\\\$5,000 [4]\n",
    "- hile caps $C$ is commonly US\\\\$500,000 or US\\\\$1,000,000 [4]"
   ]
  },
  {
   "cell_type": "markdown",
   "id": "a2f6a742-71ba-43d6-a1ee-10b2b675c6d9",
   "metadata": {},
   "source": [
    "Example: cruises suffer with reduced summer sales when there are extremely hot spring weathe. to hedge risk the company buys an out of the money call on Spring CDD’s, possibly with a cap because the business will sell a minimum number of cruises no matter what."
   ]
  },
  {
   "cell_type": "code",
   "execution_count": 3,
   "id": "b1222fd5-df45-405f-b213-15588324987f",
   "metadata": {},
   "outputs": [
    {
     "data": {
      "image/png": "[encoded data removed]",
      "text/plain": [
       "<Figure size 576x432 with 1 Axes>"
      ]
     },
     "metadata": {
      "needs_background": "light"
     },
     "output_type": "display_data"
    }
   ],
   "source": [
    "fig = plt.figure(figsize=(8,6))\n",
    "plt.plot(DD, call, 'b', linewidth=3, label='Call')\n",
    "plt.plot([200,1000],[C,C], 'b--', linewidth=0.8)\n",
    "plt.text(750, C-.2e5, r'$C$')\n",
    "plt.text(Kc, -.2e5, r'$K_C$')\n",
    "plt.xlim([700,900])\n",
    "plt.title('Call Option')\n",
    "plt.xlabel('Degree Days (DD)')\n",
    "plt.ylabel(\"Payoff (US$)\")\n",
    "plt.legend()\n",
    "plt.show()"
   ]
  },
  {
   "cell_type": "markdown",
   "id": "c3728819-0ef3-4cfb-8e0e-31af472ad066",
   "metadata": {},
   "source": [
    "#### Put with Floor"
   ]
  },
  {
   "cell_type": "markdown",
   "id": "334ddb9a-1b11-444a-8852-5ed1959c98e9",
   "metadata": {},
   "source": [
    "$$ξ=min\\{α(K–DD)^{+},F\\}$$"
   ]
  },
  {
   "cell_type": "markdown",
   "id": "4c445915-70b8-4900-842e-be1468e6029c",
   "metadata": {},
   "source": [
    "Example: To hedge risk that a warm winter decreases sales revenue from a gas company, they may choose to buy a put on HDD’s over the winter season"
   ]
  },
  {
   "cell_type": "code",
   "execution_count": 4,
   "id": "4fec6816-1520-44b4-8880-65acf046529d",
   "metadata": {},
   "outputs": [
    {
     "data": {
      "image/png": "[encoded data removed]",
      "text/plain": [
       "<Figure size 576x432 with 1 Axes>"
      ]
     },
     "metadata": {
      "needs_background": "light"
     },
     "output_type": "display_data"
    }
   ],
   "source": [
    "fig = plt.figure(figsize=(8,6))\n",
    "plt.plot(DD, put, 'k', linewidth=3, label='Put')\n",
    "plt.text(250, F-5e4, r'$F$')\n",
    "plt.text(Kp, +.1e6, r'$K_P$')\n",
    "plt.xlim([200,700])\n",
    "plt.title('Put Option')\n",
    "plt.xlabel('Degree Days (DD)')\n",
    "plt.ylabel(\"Payoff (US$)\")\n",
    "plt.legend()\n",
    "plt.show()"
   ]
  },
  {
   "cell_type": "markdown",
   "id": "e5381ab3-c702-4971-8291-b990ecfd59a9",
   "metadata": {},
   "source": [
    "#### Collar"
   ]
  },
  {
   "cell_type": "markdown",
   "id": "ca311252-89a4-4d01-a5c6-c52cabc06eba",
   "metadata": {},
   "source": [
    "$$ξ=min\\{α(DD–K_{1})^{+},C\\}–min\\{β(K_{2}–DD)^{+},F\\}$$"
   ]
  },
  {
   "cell_type": "markdown",
   "id": "9d9acdd7-3389-417f-b120-56f7fcde641a",
   "metadata": {},
   "source": [
    "Example: to hedge revenues against a mild winter, a gas company could enter into a zero dollar collar contract (no up-front cost) that pays the writer if the winter is cold and receives payment if the winter is warm."
   ]
  },
  {
   "cell_type": "code",
   "execution_count": 5,
   "id": "ee6e770a-60b1-43c4-ab4f-db6d62a7cbc3",
   "metadata": {},
   "outputs": [
    {
     "data": {
      "image/png": "[encoded data removed]",
      "text/plain": [
       "<Figure size 576x432 with 1 Axes>"
      ]
     },
     "metadata": {
      "needs_background": "light"
     },
     "output_type": "display_data"
    }
   ],
   "source": [
    "fig = plt.figure(figsize=(8,6))\n",
    "plt.plot(DD, call, 'b', linewidth=3, label='Call')\n",
    "plt.plot(DD, put, 'k', linewidth=3, label='Put')\n",
    "plt.plot(DD, collar, 'r--', linewidth=3, label='Collar')\n",
    "plt.plot([200,1000],[C,C], 'b--', linewidth=0.8)\n",
    "plt.text(250, C+.5e5, r'$C$')\n",
    "plt.text(250, F-1e5, r'$F$')\n",
    "plt.text(225, -F+.5e5, r'$-F$')\n",
    "plt.text(Kc, -.1e6, r'$K_C$')\n",
    "plt.text(Kp, -.1e6, r'$K_P$')\n",
    "plt.title('Temperature Options')\n",
    "plt.xlabel('Degree Days (DD)')\n",
    "plt.ylabel(\"Payoff (US$)\")\n",
    "plt.legend()\n",
    "plt.show()"
   ]
  },
  {
   "cell_type": "markdown",
   "id": "128c236f-3d98-435c-9c6d-57969fa309aa",
   "metadata": {},
   "source": [
    "### References:"
   ]
  },
  {
   "cell_type": "markdown",
   "id": "97715cdb-cef4-458c-8c89-c8673be0f4e3",
   "metadata": {},
   "source": [
    "[1] Weather Futures and Options, CME Group Inc, 2021 See: [Link](https://www.cmegroup.com/trading/weather/files/weather-fact-card.pdf).\n",
    "\n",
    "[2] Managing Climate Risk with CME Group Weather Futures and Options Dominic Sutton-Vermeule, 20-Jan 2021 See: [Link](https://www.cmegroup.com/education/articles-and-reports/managing-climate-risk-with-cme-group-weather-futures-and-options.html).\n",
    "\n",
    "[3] MANAGING CLIMATE RISK IN THE U.S. FINANCIAL SYSTEM, ISBN: 978-0-578-74841-2, 2020. See: [Link](https://www.cftc.gov/sites/default/files/2020-09/9-9-20%20Report%20of%20the%20Subcommittee%20on%20Climate-Related%20Market%20Risk%20-%20Managing%20Climate%20Risk%20in%20the%20U.S.%20Financial%20System%20for%20posting.pdf).\n",
    "\n",
    "[4] Statistical Analysis of Financial Data in R (Rene Carmona, 2014)"
   ]
  }
 ],
 "metadata": {
  "kernelspec": {
   "display_name": "Python 3",
   "language": "python",
   "name": "python3"
  },
  "language_info": {
   "codemirror_mode": {
    "name": "ipython",
    "version": 3
   },
   "file_extension": ".py",
   "mimetype": "text/x-python",
   "name": "python",
   "nbconvert_exporter": "python",
   "pygments_lexer": "ipython3",
   "version": "3.6.13"
  }
 },
 "nbformat": 4,
 "nbformat_minor": 5
}
